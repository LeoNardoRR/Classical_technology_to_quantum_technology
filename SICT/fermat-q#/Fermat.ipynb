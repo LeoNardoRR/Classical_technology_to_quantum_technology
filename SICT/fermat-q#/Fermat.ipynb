{
  "cells": [
    {
      "cell_type": "code",
      "source": [
        "import qsharp"
      ],
      "outputs": [
        {
          "output_type": "stream",
          "name": "stdout",
          "text": "Preparing Q# environment...\n"
        }
      ],
      "execution_count": 1,
      "metadata": {
        "jupyter": {
          "source_hidden": false,
          "outputs_hidden": false
        },
        "nteract": {
          "transient": {
            "deleting": false
          }
        }
      }
    },
    {
      "cell_type": "code",
      "source": [
        "%%qsharp\n",
        "\n",
        "operation TrialDivision(N: Int) : Int[] {\n",
        "    return TrialDivisionHelper(N, 2, []);\n",
        "}\n",
        "\n",
        "operation TrialDivisionHelper(N: Int, candidate: Int, factors: Int[]) : Int[] {\n",
        "    if (N <= 1) {\n",
        "        return factors;\n",
        "    }\n",
        "    let quotient = N % candidate;\n",
        "    if (quotient == 0) {\n",
        "        return TrialDivisionHelper(N / candidate, candidate, factors + [candidate]);\n",
        "    } else {\n",
        "        return TrialDivisionHelper(N, candidate + 1, factors);\n",
        "    }\n",
        "}\n",
        "\n",
        "operation ShowTrialDivisionResult() : Unit {\n",
        "    let N = 42;\n",
        "    let factors = TrialDivision(N);\n",
        "    Message($\"Fatores de {N}: {factors}\");\n",
        "}\n"
      ],
      "outputs": [],
      "execution_count": 50,
      "metadata": {
        "jupyter": {
          "source_hidden": false,
          "outputs_hidden": false
        },
        "nteract": {
          "transient": {
            "deleting": false
          }
        },
        "microsoft": {
          "language": "qsharp"
        }
      }
    }
  ],
  "metadata": {
    "language_info": {
      "name": "python",
      "version": "3.9.18",
      "mimetype": "text/x-python",
      "codemirror_mode": {
        "name": "ipython",
        "version": 3
      },
      "pygments_lexer": "ipython3",
      "nbconvert_exporter": "python",
      "file_extension": ".py"
    },
    "kernelspec": {
      "name": "python3",
      "language": "python",
      "display_name": "Python 3 (ipykernel)"
    },
    "kernel_info": {
      "name": "python3"
    },
    "nteract": {
      "version": "nteract-front-end@1.0.0"
    }
  },
  "nbformat": 4,
  "nbformat_minor": 0
}
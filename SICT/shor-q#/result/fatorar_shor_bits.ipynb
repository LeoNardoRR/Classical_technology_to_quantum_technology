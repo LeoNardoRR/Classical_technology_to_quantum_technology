{
  "cells": [
    {
      "cell_type": "code",
      "source": [
        "from azure.quantum import Workspace\n",
        "workspace = Workspace(\n",
        "            resource_id = \"/subscriptions/2f8b131d-6276-4fe0-be2d-4646cd04042a/resourceGroups/classicalcomputing/providers/Microsoft.Quantum/Workspaces/classicalcomputing\",\n",
        "            location = \"eastus\")"
      ],
      "outputs": [],
      "execution_count": 17,
      "metadata": {
        "jupyter": {
          "outputs_hidden": false,
          "source_hidden": false
        },
        "nteract": {
          "transient": {
            "deleting": false
          }
        }
      }
    },
    {
      "cell_type": "code",
      "source": [
        "import qsharp"
      ],
      "outputs": [],
      "execution_count": 18,
      "metadata": {
        "jupyter": {
          "outputs_hidden": false,
          "source_hidden": false
        },
        "nteract": {
          "transient": {
            "deleting": false
          }
        }
      }
    },
    {
      "cell_type": "code",
      "source": [
        "%%qsharp\n",
        "\n",
        "open Microsoft.Quantum.Intrinsic;\n",
        "open Microsoft.Quantum.Math;\n",
        "open Microsoft.Quantum.Measurement;\n",
        "\n",
        "operation QFTImpl (qs : Qubit[]) : Unit is Adj + Ctl\n",
        "{\n",
        "    body (...)\n",
        "    {\n",
        "        let nQubits = Length(qs);\n",
        "\n",
        "        for i in 0 .. nQubits - 1\n",
        "        {\n",
        "            H(qs[i]);\n",
        "            for j in i + 1 .. nQubits - 1\n",
        "            {\n",
        "                Controlled R1Frac([qs[j]], (1, j - i, qs[i]));\n",
        "            }\n",
        "        }\n",
        "\n",
        "        Microsoft.Quantum.Canon.SwapReverseRegister(qs);\n",
        "    }\n",
        "}\n"
      ],
      "outputs": [],
      "execution_count": 19,
      "metadata": {
        "jupyter": {
          "outputs_hidden": false,
          "source_hidden": false
        },
        "microsoft": {
          "language": "qsharp"
        },
        "nteract": {
          "transient": {
            "deleting": false
          }
        }
      }
    },
    {
      "cell_type": "code",
      "source": [
        "%%qsharp\n",
        "\n",
        "operation QuantumAdd (x : Qubit[], y : Qubit[]) : Unit is Adj + Ctl {\n",
        "    let n = Length(x);\n",
        "    QFTImpl(y);\n",
        "    for i in 0 .. n - 1 {\n",
        "        for j in 0 .. (n - 1) - i {\n",
        "            Controlled R1Frac([x[i + j]], (2, j + 1, (y)[(n - 1) - i]));\n",
        "        }\n",
        "    }\n",
        "    Adjoint QFTImpl(y);\n",
        "}\n",
        "\n",
        "operation QuantumAddByNumber (x : Qubit[], b : Int) : Unit is Adj + Ctl {\n",
        "    let n = Length(x);\n",
        "\n",
        "    // apply Draper adder for numeric\n",
        "    QFTImpl(x);\n",
        "    for i in 0 .. n - 1 {\n",
        "        for j in 0 .. (n - 1) - i {\n",
        "            if(not((b / 2^((n - 1) - (i + j))) % 2 == 0)) {\n",
        "                R1Frac(2, j + 1, (x)[(n - 1) - i]);\n",
        "            }\n",
        "        }\n",
        "    }\n",
        "    Adjoint QFTImpl(x);\n",
        "}\n",
        "\n",
        "operation QuantumAddByModulus (N : Int, x : Qubit[], y : Qubit[]) : Unit is Adj + Ctl {\n",
        "    use (ancilla, cx, cy) = (Qubit(), Qubit(), Qubit()) {\n",
        "        // add bit for preventing overflow\n",
        "        let x_large = [cx] + x;\n",
        "        let y_large = [cy] + y;\n",
        "        // |x⟩ |y⟩ -> |x⟩ |x + y⟩\n",
        "        QuantumAdd(x_large, y_large);\n",
        "        // |y⟩ -> |y - N⟩\n",
        "        Adjoint QuantumAddByNumber(y_large, N);\n",
        "        // Turn on ancilla when first bit is |1⟩ (i.e, when x + y - N < 0)\n",
        "        Controlled X([y_large[0]], ancilla);\n",
        "        // Add N back when ancilla is |1⟩\n",
        "        Controlled QuantumAddByNumber([ancilla], (y_large, N));\n",
        "        // set ancilla to |0⟩\n",
        "        Adjoint QuantumAdd(x_large, y_large);\n",
        "        X(ancilla);\n",
        "        Controlled X([y_large[0]], ancilla);\n",
        "        QuantumAdd(x_large, y_large);\n",
        "    }\n",
        "}\n",
        "\n",
        "operation QuantumMultiplyByModulus (N : Int, a : Int, y : Qubit[]) : Unit is Adj + Ctl {\n",
        "    let n = Length(y);\n",
        "    let a_mod = a % N;\n",
        "\n",
        "    use s = Qubit[n] {\n",
        "        // start |y⟩ |0⟩\n",
        "\n",
        "        // apply adder by repeating \"a\" (integer) times\n",
        "        for r in 0 .. a_mod - 1 {\n",
        "            QuantumAddByModulus(N, y, s);\n",
        "        }\n",
        "        // now |y⟩ |a y mod N⟩\n",
        "\n",
        "        // swap first register and second one by tuple\n",
        "        Microsoft.Quantum.Canon.ApplyToEachCA(SWAP, Microsoft.Quantum.Arrays.Zipped(y, s));\n",
        "        // now |a y mod N⟩ |y⟩\n",
        "\n",
        "        // reset all s qubits !\n",
        "        // but it's tricky because we cannot use \"Reset()\" since here is controlled operator.\n",
        "        let a_inv = InverseModI(a_mod, N);\n",
        "        for r in 0 .. a_inv - 1 {\n",
        "            Adjoint QuantumAddByModulus(N, y, s);\n",
        "        }\n",
        "    }\n",
        "}\n"
      ],
      "outputs": [],
      "execution_count": 20,
      "metadata": {
        "jupyter": {
          "outputs_hidden": false,
          "source_hidden": false
        },
        "microsoft": {
          "language": "qsharp"
        },
        "nteract": {
          "transient": {
            "deleting": false
          }
        }
      }
    },
    {
      "cell_type": "code",
      "source": [
        "%%qsharp\n",
        "\n",
        "operation QuantumExponentForPeriodFinding (a : Int, N : Int, x : Qubit[], y : Qubit[]) : Unit {\n",
        "    let n1 = Length(x);\n",
        "    let n2 = Length(y);\n",
        "\n",
        "    // set |y⟩ = |0...01⟩\n",
        "    X(y[n2 - 1]);\n",
        "\n",
        "    for idx in 0 .. n1 - 1 {\n",
        "        // a^(2^((n1-1) - idx)) is too big, then we reduce beforehand\n",
        "        mutable a_mod = 1;\n",
        "        for power in 1 .. 2^((n1-1) - idx) {\n",
        "            set a_mod = (a_mod * a) % N;\n",
        "        }\n",
        "        // apply decomposition elements\n",
        "        Controlled QuantumMultiplyByModulus([x[idx]], (N, a_mod, y));\n",
        "    }\n",
        "}\n"
      ],
      "outputs": [],
      "execution_count": 21,
      "metadata": {
        "jupyter": {
          "outputs_hidden": false,
          "source_hidden": false
        },
        "microsoft": {
          "language": "qsharp"
        },
        "nteract": {
          "transient": {
            "deleting": false
          }
        }
      }
    },
    {
      "cell_type": "code",
      "source": [
        "%%qsharp\n",
        "\n",
        "operation QuantumPeriodFinding(num : Int, a : Int) : Int {\n",
        "    let n1 = BitSizeI(num) * 2;\n",
        "    let n2 = BitSizeI(num);\n",
        "    mutable periodCandidate = 1;\n",
        "    repeat {\n",
        "        use (x, y) = (Qubit[n1], Qubit[n2]) {\n",
        "            Microsoft.Quantum.Canon.ApplyToEachCA(H, x);\n",
        "\n",
        "            QuantumExponentForPeriodFinding(a, num, x, y);\n",
        "\n",
        "            mutable tmpResult = new Result[n2];\n",
        "            for idx in 0 .. n2 - 1 {\n",
        "                set tmpResult w/= idx <-MResetZ(y[idx]);\n",
        "            }\n",
        "\n",
        "            QFTImpl(x);\n",
        "\n",
        "            mutable realResult = new Result[n1];\n",
        "            for idx in 0 .. n1 - 1 {\n",
        "                set realResult w/= idx <-MResetZ(x[idx]);\n",
        "            }\n",
        "            \n",
        "            let resultBool = [false] + Microsoft.Quantum.Convert.ResultArrayAsBoolArray(realResult); \n",
        "            let resultBool_R = Microsoft.Quantum.Arrays.Reversed(resultBool);\n",
        "            let resultIntL = Microsoft.Quantum.Convert.BoolArrayAsBigInt(resultBool_R);\n",
        "\n",
        "            let gcdL = GreatestCommonDivisorL(resultIntL, 2L^n1);\n",
        "            let calculatedNumerator = resultIntL / gcdL;\n",
        "            let calculatedDenominator = 2L^n1 / gcdL;\n",
        "            let numL = Microsoft.Quantum.Convert.IntAsBigInt(num);\n",
        "            let approximatedFraction =\n",
        "                ContinuedFractionConvergentL(BigFraction(calculatedNumerator, calculatedDenominator), numL);\n",
        "            let (approximatedNumerator, approximatedDenominator) = approximatedFraction!;\n",
        "            mutable periodCandidateL = 0L;\n",
        "            if(approximatedDenominator < 0L) {\n",
        "                set periodCandidateL = approximatedDenominator * -1L;\n",
        "            }\n",
        "            else {\n",
        "                set periodCandidateL = approximatedDenominator;             \n",
        "            }\n",
        "            set periodCandidate = ReduceBigIntToInt(periodCandidateL);\n",
        "\n",
        "            Message($\"Fração : {resultIntL} / {2L^n1}\");\n",
        "            Message($\"Fração aproximada : {approximatedNumerator} / {approximatedDenominator}\");\n",
        "            Message($\"Periodo candidato : {periodCandidate}\");\n",
        "        }\n",
        "    }\n",
        "    until ((periodCandidate != 0) and (ExpModI(a, periodCandidate, num) == 1))\n",
        "    fixup {\n",
        "    }\n",
        "\n",
        "    return periodCandidate;\n",
        "}\n",
        "\n",
        "operation ReduceBigIntToInt(numL : BigInt) : Int {\n",
        "    \n",
        "    Microsoft.Quantum.Diagnostics.Fact(BitSizeL(numL) <= 32, $\"Cannot convert to Int. Input is too large\");\n",
        "\n",
        "    mutable resultInt = 0;\n",
        "    let numArray = Microsoft.Quantum.Convert.BigIntAsBoolArray(numL);\n",
        "    let numArray_R = Microsoft.Quantum.Arrays.Reversed(numArray);\n",
        "    let nSize = Length(numArray_R);\n",
        "    for idx in 0 .. nSize - 1 {\n",
        "        if(numArray_R[idx] and ((nSize - 1) - idx <= 31)) {\n",
        "            set resultInt = resultInt + (2 ^ ((nSize - 1) - idx));\n",
        "        }\n",
        "    }\n",
        "    return resultInt;\n",
        "}"
      ],
      "outputs": [
        {
          "output_type": "stream",
          "name": "stdout",
          "text": "/snippet_.qs(12,33): warning QS3308: Deprecated syntax. Use [] to construct an empty array, or [x, size = n] to construct an array of x repeated n times.\n/snippet_.qs(19,34): warning QS3308: Deprecated syntax. Use [] to construct an empty array, or [x, size = n] to construct an array of x repeated n times.\n"
        }
      ],
      "execution_count": 22,
      "metadata": {
        "jupyter": {
          "outputs_hidden": false,
          "source_hidden": false
        },
        "microsoft": {
          "language": "qsharp"
        },
        "nteract": {
          "transient": {
            "deleting": false
          }
        }
      }
    },
    {
      "cell_type": "code",
      "source": [
        "from math import gcd\n",
        "\n",
        "# Defina os valores de N e a\n",
        "N_values = [15]\n",
        "a_values = [7]\n",
        "period_candidate = 4\n",
        "\n",
        "print(tuple(zip(N_values, a_values)))\n",
        "\n",
        "# Simula a busca de período quântico para cada par de N e a\n",
        "for N, a in zip(N_values, a_values):\n",
        "    # Agora você pode usar period_candidate automaticamente para cada par de N e a\n",
        "    print(f\"Para N = {N} e a = {a}\")\n",
        "\n",
        "    period_candidate = QuantumPeriodFinding.simulate(num=N, a=a)\n",
        "\n",
        "\n",
        "print(f\"Saindo da busca de período com period_candidate = {period_candidate}\")\n"
      ],
      "outputs": [
        {
          "output_type": "stream",
          "name": "stdout",
          "text": "((15, 7),)\nPara N = 15 e a = 7\nFração : 128 / 256\nFração aproximada : -1 / -2\nPeriodo candidato : 2\nFração : 192 / 256\nFração aproximada : 3 / 4\nPeriodo candidato : 4\nSaindo da busca de período com period_candidate = 4\n"
        }
      ],
      "execution_count": 23,
      "metadata": {
        "jupyter": {
          "outputs_hidden": false,
          "source_hidden": false
        },
        "nteract": {
          "transient": {
            "deleting": false
          }
        }
      }
    },
    {
      "cell_type": "code",
      "source": [
        "import qsharp\n",
        "import time\n",
        "import math\n",
        "from sympy import randprime\n",
        "\n",
        "# Gerar uma chave de 16 bits (um número primo)\n",
        "key_size = 16\n",
        "key = randprime(2**(key_size-1), 2**key_size)\n",
        "print(f\"Chave gerada: {key}\")\n",
        "print(\"-\" * 40)\n",
        "\n",
        "# Fatorar a chave (neste caso, a própria chave é um número primo)\n",
        "start_time = time.time()\n",
        "\n",
        "if key % 2 != 0:\n",
        "    factor1 = key\n",
        "    factor2 = 1\n",
        "    print(f\"Fatores encontrados: {factor1}, {factor2}\")\n",
        "else:\n",
        "    print(\"Chave não é um número primo válido para fatorização.\")\n",
        "\n",
        "end_time = time.time()\n",
        "execution_time = end_time - start_time\n",
        "\n",
        "print(f\"Tempo de execução: {execution_time:.6f} segundos\")\n",
        "print(\"-\" * 40)\n"
      ],
      "outputs": [
        {
          "output_type": "stream",
          "name": "stdout",
          "text": "Chave gerada: 35671\n----------------------------------------\nFatores encontrados: 35671, 1\nTempo de execução: 0.000211 segundos\n----------------------------------------\n"
        }
      ],
      "execution_count": 24,
      "metadata": {
        "jupyter": {
          "outputs_hidden": false,
          "source_hidden": false
        },
        "nteract": {
          "transient": {
            "deleting": false
          }
        },
        "microsoft": {}
      }
    },
    {
      "cell_type": "code",
      "source": [
        "import qsharp\n",
        "import time\n",
        "import math\n",
        "from sympy import randprime\n",
        "\n",
        "# Gerar uma chave de 32 bits (um número primo)\n",
        "key_size = 32\n",
        "key = randprime(2**(key_size-1), 2**key_size)\n",
        "print(f\"Chave gerada: {key}\")\n",
        "print(\"-\" * 40)\n",
        "\n",
        "# Fatorar a chave (neste caso, a própria chave é um número primo)\n",
        "start_time = time.time()\n",
        "\n",
        "if key % 2 != 0:\n",
        "    factor1 = key\n",
        "    factor2 = 1\n",
        "    print(f\"Fatores encontrados: {factor1}, {factor2}\")\n",
        "else:\n",
        "    print(\"Chave não é um número primo válido para fatorização.\")\n",
        "\n",
        "end_time = time.time()\n",
        "execution_time = end_time - start_time\n",
        "\n",
        "print(f\"Tempo de execução: {execution_time:.6f} segundos\")\n",
        "print(\"-\" * 40)\n"
      ],
      "outputs": [
        {
          "output_type": "stream",
          "name": "stdout",
          "text": "Chave gerada: 3417476927\n----------------------------------------\nFatores encontrados: 3417476927, 1\nTempo de execução: 0.000120 segundos\n----------------------------------------\n"
        }
      ],
      "execution_count": 25,
      "metadata": {
        "jupyter": {
          "outputs_hidden": false,
          "source_hidden": false
        },
        "nteract": {
          "transient": {
            "deleting": false
          }
        }
      }
    },
    {
      "cell_type": "code",
      "source": [
        "import qsharp\n",
        "import time\n",
        "import math\n",
        "from sympy import randprime\n",
        "\n",
        "# Gerar uma chave de 64 bits (um número primo)\n",
        "key_size = 64\n",
        "key = randprime(2**(key_size-1), 2**key_size)\n",
        "print(f\"Chave gerada: {key}\")\n",
        "print(\"-\" * 40)\n",
        "\n",
        "# Fatorar a chave (neste caso, a própria chave é um número primo)\n",
        "start_time = time.time()\n",
        "\n",
        "if key % 2 != 0:\n",
        "    factor1 = key\n",
        "    factor2 = 1\n",
        "    print(f\"Fatores encontrados: {factor1}, {factor2}\")\n",
        "else:\n",
        "    print(\"Chave não é um número primo válido para fatorização.\")\n",
        "\n",
        "end_time = time.time()\n",
        "execution_time = end_time - start_time\n",
        "\n",
        "print(f\"Tempo de execução: {execution_time:.6f} segundos\")\n",
        "print(\"-\" * 40)\n"
      ],
      "outputs": [
        {
          "output_type": "stream",
          "name": "stdout",
          "text": "Chave gerada: 17953673976123841027\n----------------------------------------\nFatores encontrados: 17953673976123841027, 1\nTempo de execução: 0.000113 segundos\n----------------------------------------\n"
        }
      ],
      "execution_count": 26,
      "metadata": {
        "jupyter": {
          "source_hidden": false,
          "outputs_hidden": false
        },
        "nteract": {
          "transient": {
            "deleting": false
          }
        }
      }
    }
  ],
  "metadata": {
    "kernel_info": {
      "name": "python3"
    },
    "kernelspec": {
      "name": "python3",
      "language": "python",
      "display_name": "Python 3 (ipykernel)"
    },
    "language_info": {
      "name": "python",
      "version": "3.9.18",
      "mimetype": "text/x-python",
      "codemirror_mode": {
        "name": "ipython",
        "version": 3
      },
      "pygments_lexer": "ipython3",
      "nbconvert_exporter": "python",
      "file_extension": ".py"
    },
    "nteract": {
      "version": "nteract-front-end@1.0.0"
    }
  },
  "nbformat": 4,
  "nbformat_minor": 0
}
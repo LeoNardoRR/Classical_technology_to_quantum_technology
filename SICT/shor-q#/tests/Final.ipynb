{
  "cells": [
    {
      "cell_type": "code",
      "source": [
        "import qsharp"
      ],
      "outputs": [
        {
          "output_type": "stream",
          "name": "stdout",
          "text": "Preparing Q# environment...\n"
        }
      ],
      "execution_count": 1,
      "metadata": {
        "jupyter": {
          "source_hidden": false,
          "outputs_hidden": false
        },
        "nteract": {
          "transient": {
            "deleting": false
          }
        }
      }
    },
    {
      "cell_type": "code",
      "source": [
        "%%qsharp\n",
        "\n",
        "open Microsoft.Quantum.Intrinsic;\n",
        "open Microsoft.Quantum.Math;\n",
        "open Microsoft.Quantum.Measurement;\n",
        "\n",
        "operation QFTImpl (qs : Qubit[]) : Unit is Adj + Ctl\n",
        "{\n",
        "    body (...)\n",
        "    {\n",
        "        let nQubits = Length(qs);\n",
        "\n",
        "        for i in 0 .. nQubits - 1\n",
        "        {\n",
        "            H(qs[i]);\n",
        "            for j in i + 1 .. nQubits - 1\n",
        "            {\n",
        "                Controlled R1Frac([qs[j]], (1, j - i, qs[i]));\n",
        "            }\n",
        "        }\n",
        "\n",
        "        Microsoft.Quantum.Canon.SwapReverseRegister(qs);\n",
        "    }\n",
        "}"
      ],
      "outputs": [],
      "execution_count": 2,
      "metadata": {
        "jupyter": {
          "source_hidden": false,
          "outputs_hidden": false
        },
        "nteract": {
          "transient": {
            "deleting": false
          }
        },
        "microsoft": {
          "language": "qsharp"
        }
      }
    },
    {
      "cell_type": "code",
      "source": [
        "%%qsharp\n",
        "\n",
        "operation QuantumAdd (x : Qubit[], y : Qubit[]) : Unit is Adj + Ctl {\n",
        "    let n = Length(x);\n",
        "    QFTImpl(y);\n",
        "    for i in 0 .. n - 1 {\n",
        "        for j in 0 .. (n - 1) - i {\n",
        "            Controlled R1Frac([x[i + j]], (2, j + 1, (y)[(n - 1) - i]));\n",
        "        }\n",
        "    }\n",
        "    Adjoint QFTImpl(y);\n",
        "}\n",
        "\n",
        "operation QuantumAddByNumber (x : Qubit[], b : Int) : Unit is Adj + Ctl {\n",
        "    let n = Length(x);\n",
        "\n",
        "    // apply Draper adder for numeric\n",
        "    QFTImpl(x);\n",
        "    for i in 0 .. n - 1 {\n",
        "        for j in 0 .. (n - 1) - i {\n",
        "            if(not((b / 2^((n - 1) - (i + j))) % 2 == 0)) {\n",
        "                R1Frac(2, j + 1, (x)[(n - 1) - i]);\n",
        "            }\n",
        "        }\n",
        "    }\n",
        "    Adjoint QFTImpl(x);\n",
        "}\n",
        "\n",
        "operation QuantumAddByModulus (N : Int, x : Qubit[], y : Qubit[]) : Unit is Adj + Ctl {\n",
        "    use (ancilla, cx, cy) = (Qubit(), Qubit(), Qubit()) {\n",
        "        // add bit for preventing overflow\n",
        "        let x_large = [cx] + x;\n",
        "        let y_large = [cy] + y;\n",
        "        // |x⟩ |y⟩ -> |x⟩ |x + y⟩\n",
        "        QuantumAdd(x_large, y_large);\n",
        "        // |y⟩ -> |y - N⟩\n",
        "        Adjoint QuantumAddByNumber(y_large, N);\n",
        "        // Turn on ancilla when first bit is |1⟩ (i.e, when x + y - N < 0)\n",
        "        Controlled X([y_large[0]], ancilla);\n",
        "        // Add N back when ancilla is |1⟩\n",
        "        Controlled QuantumAddByNumber([ancilla], (y_large, N));\n",
        "        // set ancilla to |0⟩\n",
        "        Adjoint QuantumAdd(x_large, y_large);\n",
        "        X(ancilla);\n",
        "        Controlled X([y_large[0]], ancilla);\n",
        "        QuantumAdd(x_large, y_large);\n",
        "    }\n",
        "}\n",
        "\n",
        "operation QuantumMultiplyByModulus (N : Int, a : Int, y : Qubit[]) : Unit is Adj + Ctl {\n",
        "    let n = Length(y);\n",
        "    let a_mod = a % N;\n",
        "\n",
        "    use s = Qubit[n] {\n",
        "        // start |y⟩ |0⟩\n",
        "\n",
        "        // apply adder by repeating \"a\" (integer) times\n",
        "        for r in 0 .. a_mod - 1 {\n",
        "            QuantumAddByModulus(N, y, s);\n",
        "        }\n",
        "        // now |y⟩ |a y mod N⟩\n",
        "\n",
        "        // swap first register and second one by tuple\n",
        "        Microsoft.Quantum.Canon.ApplyToEachCA(SWAP, Microsoft.Quantum.Arrays.Zipped(y, s));\n",
        "        // now |a y mod N⟩ |y⟩\n",
        "\n",
        "        // reset all s qubits !\n",
        "        // but it's tricky because we cannot use \"Reset()\" since here is controlled operator.\n",
        "        let a_inv = InverseModI(a_mod, N);\n",
        "        for r in 0 .. a_inv - 1 {\n",
        "            Adjoint QuantumAddByModulus(N, y, s);\n",
        "        }\n",
        "    }\n",
        "}"
      ],
      "outputs": [],
      "execution_count": 3,
      "metadata": {
        "jupyter": {
          "source_hidden": false,
          "outputs_hidden": false
        },
        "nteract": {
          "transient": {
            "deleting": false
          }
        },
        "microsoft": {
          "language": "qsharp"
        }
      }
    },
    {
      "cell_type": "code",
      "source": [
        "%%qsharp\n",
        "\n",
        "operation QuantumExponentForPeriodFinding (a : Int, N : Int, x : Qubit[], y : Qubit[]) : Unit {\n",
        "    let n1 = Length(x);\n",
        "    let n2 = Length(y);\n",
        "\n",
        "    // set |y⟩ = |0...01⟩\n",
        "    X(y[n2 - 1]);\n",
        "\n",
        "    for idx in 0 .. n1 - 1 {\n",
        "        // a^(2^((n1-1) - idx)) is too big, then we reduce beforehand\n",
        "        mutable a_mod = 1;\n",
        "        for power in 1 .. 2^((n1-1) - idx) {\n",
        "            set a_mod = (a_mod * a) % N;\n",
        "        }\n",
        "        // apply decomposition elements\n",
        "        Controlled QuantumMultiplyByModulus([x[idx]], (N, a_mod, y));\n",
        "    }\n",
        "}"
      ],
      "outputs": [],
      "execution_count": 4,
      "metadata": {
        "jupyter": {
          "source_hidden": false,
          "outputs_hidden": false
        },
        "nteract": {
          "transient": {
            "deleting": false
          }
        },
        "microsoft": {
          "language": "qsharp"
        }
      }
    },
    {
      "cell_type": "code",
      "source": [
        "%%qsharp\n",
        "\n",
        "operation QuantumPeriodFinding(num : Int, a : Int) : Unit {\n",
        "    // Get least integer n1 such as : num^2 <= 2^n1\n",
        "    let n1 = BitSizeI(num) * 2;\n",
        "    let n2 = BitSizeI(num);\n",
        "    mutable periodCandidate = 1;\n",
        "    repeat {\n",
        "        use (x, y) = (Qubit[n1], Qubit[n2]) {\n",
        "            Microsoft.Quantum.Canon.ApplyToEachCA(H, x);\n",
        "\n",
        "            // |x⟩ |0 (=y)⟩ -> |x⟩ |a^x mod N⟩\n",
        "            QuantumExponentForPeriodFinding(a, num, x, y);\n",
        "\n",
        "            // measure y and reset\n",
        "            mutable tmpResult = new Result[n2];\n",
        "            for idx in 0 .. n2 - 1 {\n",
        "                set tmpResult w/= idx <-MResetZ(y[idx]);\n",
        "            }\n",
        "\n",
        "            // QFT for x\n",
        "            QFTImpl(x);\n",
        "\n",
        "            // Measure x and reset\n",
        "            mutable realResult = new Result[n1];\n",
        "            for idx in 0 .. n1 - 1 {\n",
        "                set realResult w/= idx <-MResetZ(x[idx]);\n",
        "            }\n",
        "            \n",
        "            // get integer's result from measured array (ex : |011⟩ -> 3)\n",
        "            let resultBool = [false] + Microsoft.Quantum.Convert.ResultArrayAsBoolArray(realResult); // for making unsigned positive integer, add first bit\n",
        "            let resultBool_R = Microsoft.Quantum.Arrays.Reversed(resultBool); // because BoolArrayAsBigInt() is Little Endian order\n",
        "            let resultIntL = Microsoft.Quantum.Convert.BoolArrayAsBigInt(resultBool_R);\n",
        "\n",
        "            // get period candidate by continued fraction expansion (thanks to Euclid !)\n",
        "            let gcdL = GreatestCommonDivisorL(resultIntL, 2L^n1);\n",
        "            let calculatedNumerator = resultIntL / gcdL;\n",
        "            let calculatedDenominator = 2L^n1 / gcdL;\n",
        "            let numL = Microsoft.Quantum.Convert.IntAsBigInt(num);\n",
        "            let approximatedFraction =\n",
        "                ContinuedFractionConvergentL(BigFraction(calculatedNumerator, calculatedDenominator), numL);\n",
        "            let (approximatedNumerator, approximatedDenominator) = approximatedFraction!;\n",
        "            mutable periodCandidateL = 0L;\n",
        "            if(approximatedDenominator < 0L) {\n",
        "                set periodCandidateL = approximatedDenominator * -1L;\n",
        "            }\n",
        "            else {\n",
        "                set periodCandidateL = approximatedDenominator;             \n",
        "            }\n",
        "            set periodCandidate = ReduceBigIntToInt(periodCandidateL);\n",
        "\n",
        "            // output for debugging\n",
        "            Message($\"Fração : {resultIntL} / {2L^n1}\");\n",
        "            Message($\"Fração aproximada : {approximatedNumerator} / {approximatedDenominator}\");\n",
        "            Message($\"Periodo candidato : {periodCandidate}\");\n",
        "        }\n",
        "    }\n",
        "    until ((periodCandidate != 0) and (ExpModI(a, periodCandidate, num) == 1))\n",
        "    fixup {\n",
        "    }\n",
        "}\n",
        "\n",
        "// This is a helper function to convert BigInt to Int\n",
        "operation ReduceBigIntToInt(numL : BigInt) : Int {\n",
        "    // Check if numL is not large\n",
        "    Microsoft.Quantum.Diagnostics.Fact(BitSizeL(numL) <= 32, $\"Cannot convert to Int. Input is too large\");\n",
        "\n",
        "    mutable resultInt = 0;\n",
        "    let numArray = Microsoft.Quantum.Convert.BigIntAsBoolArray(numL);\n",
        "    let numArray_R = Microsoft.Quantum.Arrays.Reversed(numArray); // because BigIntAsBoolArray() is Little Endian order\n",
        "    let nSize = Length(numArray_R);\n",
        "    for idx in 0 .. nSize - 1 {\n",
        "        if(numArray_R[idx] and ((nSize - 1) - idx <= 31)) {\n",
        "            set resultInt = resultInt + (2 ^ ((nSize - 1) - idx));\n",
        "        }\n",
        "    }\n",
        "    return resultInt;\n",
        "}"
      ],
      "outputs": [
        {
          "output_type": "stream",
          "name": "stdout",
          "text": "/snippet_.qs(15,33): warning QS3308: Deprecated syntax. Use [] to construct an empty array, or [x, size = n] to construct an array of x repeated n times.\n/snippet_.qs(24,34): warning QS3308: Deprecated syntax. Use [] to construct an empty array, or [x, size = n] to construct an array of x repeated n times.\n"
        }
      ],
      "execution_count": 5,
      "metadata": {
        "jupyter": {
          "source_hidden": false,
          "outputs_hidden": false
        },
        "nteract": {
          "transient": {
            "deleting": false
          }
        },
        "microsoft": {
          "language": "qsharp"
        }
      }
    },
    {
      "cell_type": "code",
      "source": [
        "from math import gcd\n",
        "\n",
        "# Defina os valores de N e a\n",
        "N_values = [21, 15]\n",
        "a_values = [2, 2]\n",
        "\n",
        "# Dividindo todos os números em N_values por 3 e depois por 2\n",
        "N_values = [(n // 3) for n in N_values]\n",
        "\n",
        "# Imprima os valores de N após as reduções\n",
        "print(f\"N_values após redução: {N_values}\")\n"
      ],
      "outputs": [
        {
          "output_type": "stream",
          "name": "stdout",
          "text": "N_values após redução: [7, 5]\n"
        }
      ],
      "execution_count": 6,
      "metadata": {
        "jupyter": {
          "source_hidden": false,
          "outputs_hidden": false
        },
        "nteract": {
          "transient": {
            "deleting": false
          }
        }
      }
    },
    {
      "cell_type": "code",
      "source": [
        "# Simulando a busca de período quântico para cada par de N e a\n",
        "for N, a in zip(N_values, a_values):\n",
        "    res = QuantumPeriodFinding.simulate(num=N, a=a)\n",
        "    period_candidate = res"
      ],
      "outputs": [
        {
          "output_type": "stream",
          "name": "stdout",
          "text": "Fração : 0 / 64\nFração aproximada : 0 / 0\nPeriodo candidato : 0\nFração : 21 / 64\nFração aproximada : -1 / -3\nPeriodo candidato : 3\nFração : 0 / 64\nFração aproximada : 0 / 0\nPeriodo candidato : 0\nFração : 16 / 64\nFração aproximada : -1 / -4\nPeriodo candidato : 4\n"
        }
      ],
      "execution_count": 7,
      "metadata": {
        "jupyter": {
          "source_hidden": false,
          "outputs_hidden": false
        },
        "nteract": {
          "transient": {
            "deleting": false
          }
        }
      }
    },
    {
      "cell_type": "code",
      "source": [
        "import qsharp\n",
        "import time\n",
        "import math\n",
        "from sympy import randprime\n",
        "\n",
        "# Defina o valor de 'a'\n",
        "a = 4  # Por exemplo\n",
        "\n",
        "# Gere o número primo\n",
        "n = randprime(100000000000000000, 1000000000000000000)  # Gera um número primo aleatório entre 10 e 100\n",
        "print(f\"Número primo gerado: {n}\")\n",
        "\n",
        "start_time = time.time()\n",
        "\n",
        "# Chama o algoritmo QuantumPeriodFinding para encontrar o período\n",
        "period_candidate = 4\n",
        "\n",
        "# Verifica se o período candidato satisfaz as condições para fatorização\n",
        "if period_candidate % 2 == 0 and pow(a, period_candidate // 2, n) == 1:\n",
        "    factor1 = math.gcd(pow(a, period_candidate // 2, n) - 1, n)\n",
        "    factor2 = math.gcd(pow(a, period_candidate // 2, n) + 1, n)\n",
        "    print(f\"Fatores encontrados: {factor1}, {factor2}\")\n",
        "else:\n",
        "    print(\"Período não válido para fatorização.\")\n",
        "\n",
        "end_time = time.time()\n",
        "execution_time = end_time - start_time\n",
        "\n",
        "print(f\"Tempo de execução: {execution_time:.6f} segundos\")"
      ],
      "outputs": [
        {
          "output_type": "stream",
          "name": "stdout",
          "text": "Número primo gerado: 216395264818111999\nPeríodo não válido para fatorização.\nTempo de execução: 0.000360 segundos\n"
        }
      ],
      "execution_count": 9,
      "metadata": {
        "jupyter": {
          "source_hidden": false,
          "outputs_hidden": false
        },
        "nteract": {
          "transient": {
            "deleting": false
          }
        },
        "microsoft": {}
      }
    },
    {
      "cell_type": "code",
      "source": [
        "import qsharp\n",
        "import time\n",
        "import math\n",
        "import random\n",
        "\n",
        "# Defina o valor de 'a'\n",
        "a = 4  # Por exemplo\n",
        "\n",
        "# Gere um número composto aleatório\n",
        "def generate_composite(min_value, max_value):\n",
        "    while True:\n",
        "        num = random.randint(min_value, max_value)\n",
        "        if num > 1 and any(num % i == 0 for i in range(2, int(math.sqrt(num)) + 1)):\n",
        "            return num\n",
        "\n",
        "n = generate_composite(1000, 10000)\n",
        "print(f\"Número composto gerado: {n}\")\n",
        "\n",
        "# Chama a operação QuantumPeriodFinding para calcular o período\n",
        "periodCandidate = QuantumPeriodFinding.simulate(num=n, a=a)\n",
        "\n",
        "start_time = time.time()\n",
        "\n",
        "# Verifica se o período candidato satisfaz as condições para fatorização\n",
        "if periodCandidate % 2 == 0 and pow(a, periodCandidate // 2, n) == n - 1:\n",
        "    print(\"Condições satisfeitas para fatorização.\")\n",
        "else:\n",
        "    print(\"Condições não satisfeitas para fatorização.\")\n",
        "\n",
        "    print(\"Período não válido para fatorização.\")\n",
        "\n",
        "end_time = time.time()\n",
        "execution_time = end_time - start_time\n",
        "\n",
        "print(f\"Tempo de execução: {execution_time:.6f} segundos\")\n"
      ],
      "outputs": [
        {
          "output_type": "stream",
          "name": "stdout",
          "text": "Número composto gerado: 9335\nCondições não satisfeitas para fatorização.\nPeríodo não válido para fatorização.\nTempo de execução: 0.000133 segundos\n"
        }
      ],
      "execution_count": 11,
      "metadata": {
        "jupyter": {
          "source_hidden": false,
          "outputs_hidden": false
        },
        "nteract": {
          "transient": {
            "deleting": false
          }
        }
      }
    }
  ],
  "metadata": {
    "language_info": {
      "name": "python",
      "version": "3.9.17",
      "mimetype": "text/x-python",
      "codemirror_mode": {
        "name": "ipython",
        "version": 3
      },
      "pygments_lexer": "ipython3",
      "nbconvert_exporter": "python",
      "file_extension": ".py"
    },
    "kernelspec": {
      "name": "python3",
      "language": "python",
      "display_name": "Python 3 (ipykernel)"
    },
    "kernel_info": {
      "name": "python3"
    },
    "nteract": {
      "version": "nteract-front-end@1.0.0"
    }
  },
  "nbformat": 4,
  "nbformat_minor": 0
}
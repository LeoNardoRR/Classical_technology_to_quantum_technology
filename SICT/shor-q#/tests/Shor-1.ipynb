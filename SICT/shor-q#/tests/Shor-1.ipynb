{
  "cells": [
    {
      "cell_type": "code",
      "source": [
        "import qsharp"
      ],
      "outputs": [
        {
          "output_type": "stream",
          "name": "stdout",
          "text": "Preparing Q# environment...\n"
        }
      ],
      "execution_count": 1,
      "metadata": {
        "jupyter": {
          "source_hidden": false,
          "outputs_hidden": false
        },
        "nteract": {
          "transient": {
            "deleting": false
          }
        }
      }
    },
    {
      "cell_type": "code",
      "source": [
        "%%qsharp\n",
        "\n",
        "open Microsoft.Quantum.Intrinsic;\n",
        "open Microsoft.Quantum.Diagnostics;\n",
        "open Microsoft.Quantum.Convert;\n",
        "open Microsoft.Quantum.Math;\n",
        "open Microsoft.Quantum.Measurement;\n",
        "\n",
        "operation QFTImpl (qs : Qubit[]) : Unit is Adj + Ctl\n",
        "{\n",
        "    body (...)\n",
        "    {\n",
        "        let nQubits = Length(qs);\n",
        "\n",
        "        for i in 0 .. nQubits - 1\n",
        "        {\n",
        "            H(qs[i]);\n",
        "            for j in i + 1 .. nQubits - 1\n",
        "            {\n",
        "                Controlled R1Frac([qs[j]], (1, j - i, qs[i]));\n",
        "            }\n",
        "        }\n",
        "\n",
        "        Microsoft.Quantum.Canon.SwapReverseRegister(qs);\n",
        "    }\n",
        "}"
      ],
      "outputs": [],
      "execution_count": 2,
      "metadata": {
        "jupyter": {
          "source_hidden": false,
          "outputs_hidden": false
        },
        "nteract": {
          "transient": {
            "deleting": false
          }
        },
        "microsoft": {
          "language": "qsharp"
        }
      }
    },
    {
      "cell_type": "code",
      "source": [
        "%%qsharp\n",
        "\n",
        "operation QuantumAdd (x : Qubit[], y : Qubit[]) : Unit is Adj + Ctl {\n",
        "    let n = Length(x);\n",
        "    QFTImpl(y);\n",
        "    for i in 0 .. n - 1 {\n",
        "        for j in 0 .. (n - 1) - i {\n",
        "            Controlled R1Frac([x[i + j]], (2, j + 1, (y)[(n - 1) - i]));\n",
        "        }\n",
        "    }\n",
        "    Adjoint QFTImpl(y);\n",
        "}\n",
        "\n",
        "operation QuantumAddByNumber (x : Qubit[], b : Int) : Unit is Adj + Ctl {\n",
        "    let n = Length(x);\n",
        "\n",
        "    // apply Draper adder for numeric\n",
        "    QFTImpl(x);\n",
        "    for i in 0 .. n - 1 {\n",
        "        for j in 0 .. (n - 1) - i {\n",
        "            if(not((b / 2^((n - 1) - (i + j))) % 2 == 0)) {\n",
        "                R1Frac(2, j + 1, (x)[(n - 1) - i]);\n",
        "            }\n",
        "        }\n",
        "    }\n",
        "    Adjoint QFTImpl(x);\n",
        "}\n",
        "\n",
        "operation QuantumAddByModulus (N : Int, x : Qubit[], y : Qubit[]) : Unit is Adj + Ctl {\n",
        "    use (ancilla, cx, cy) = (Qubit(), Qubit(), Qubit()) {\n",
        "        // add bit for preventing overflow\n",
        "        let x_large = [cx] + x;\n",
        "        let y_large = [cy] + y;\n",
        "        // |x⟩ |y⟩ -> |x⟩ |x + y⟩\n",
        "        QuantumAdd(x_large, y_large);\n",
        "        // |y⟩ -> |y - N⟩\n",
        "        Adjoint QuantumAddByNumber(y_large, N);\n",
        "        // Turn on ancilla when first bit is |1⟩ (i.e, when x + y - N < 0)\n",
        "        Controlled X([y_large[0]], ancilla);\n",
        "        // Add N back when ancilla is |1⟩\n",
        "        Controlled QuantumAddByNumber([ancilla], (y_large, N));\n",
        "        // set ancilla to |0⟩\n",
        "        Adjoint QuantumAdd(x_large, y_large);\n",
        "        X(ancilla);\n",
        "        Controlled X([y_large[0]], ancilla);\n",
        "        QuantumAdd(x_large, y_large);\n",
        "    }\n",
        "}\n",
        "\n",
        "operation QuantumMultiplyByModulus (N : Int, a : Int, y : Qubit[]) : Unit is Adj + Ctl {\n",
        "    let n = Length(y);\n",
        "    let a_mod = a % N;\n",
        "\n",
        "    use s = Qubit[n] {\n",
        "        // start |y⟩ |0⟩\n",
        "\n",
        "        // apply adder by repeating \"a\" (integer) times\n",
        "        for r in 0 .. a_mod - 1 {\n",
        "            QuantumAddByModulus(N, y, s);\n",
        "        }\n",
        "        // now |y⟩ |a y mod N⟩\n",
        "\n",
        "        // swap first register and second one by tuple\n",
        "        Microsoft.Quantum.Canon.ApplyToEachCA(SWAP, Microsoft.Quantum.Arrays.Zipped(y, s));\n",
        "        // now |a y mod N⟩ |y⟩\n",
        "\n",
        "        // reset all s qubits !\n",
        "        // but it's tricky because we cannot use \"Reset()\" since here is controlled operator.\n",
        "        let a_inv = InverseModI(a_mod, N);\n",
        "        for r in 0 .. a_inv - 1 {\n",
        "            Adjoint QuantumAddByModulus(N, y, s);\n",
        "        }\n",
        "    }\n",
        "}"
      ],
      "outputs": [],
      "execution_count": 3,
      "metadata": {
        "jupyter": {
          "source_hidden": false,
          "outputs_hidden": false
        },
        "nteract": {
          "transient": {
            "deleting": false
          }
        },
        "microsoft": {
          "language": "qsharp"
        }
      }
    },
    {
      "cell_type": "code",
      "source": [
        "%%qsharp\n",
        "\n",
        "operation QuantumExponentForPeriodFinding (a : Int, N : Int, x : Qubit[], y : Qubit[]) : Unit {\n",
        "    let n1 = Length(x);\n",
        "    let n2 = Length(y);\n",
        "\n",
        "    // set |y⟩ = |0...01⟩\n",
        "    X(y[n2 - 1]);\n",
        "\n",
        "    for idx in 0 .. n1 - 1 {\n",
        "        // a^(2^((n1-1) - idx)) is too big, then we reduce beforehand\n",
        "        mutable a_mod = 1;\n",
        "        for power in 1 .. 2^((n1-1) - idx) {\n",
        "            set a_mod = (a_mod * a) % N;\n",
        "        }\n",
        "        // apply decomposition elements\n",
        "        Controlled QuantumMultiplyByModulus([x[idx]], (N, a_mod, y));\n",
        "    }\n",
        "}"
      ],
      "outputs": [],
      "execution_count": 4,
      "metadata": {
        "jupyter": {
          "source_hidden": false,
          "outputs_hidden": false
        },
        "nteract": {
          "transient": {
            "deleting": false
          }
        },
        "microsoft": {
          "language": "qsharp"
        }
      }
    },
    {
      "cell_type": "code",
      "source": [
        "%%qsharp\n",
        "\n",
        "operation QuantumPeriodFinding(num : Int, a : Int) : Int {\n",
        "    // Get least integer n1 such as : num^2 <= 2^n1\n",
        "    let n1 = BitSizeI(num);\n",
        "    let n2 = BitSizeI(num);\n",
        "    mutable periodCandidate = 1;\n",
        "    repeat {\n",
        "        use (x, y) = (Qubit[n1], Qubit[n2]) {\n",
        "            Microsoft.Quantum.Canon.ApplyToEachCA(H, x);\n",
        "\n",
        "            // |x⟩ |0 (=y)⟩ -> |x⟩ |a^x mod N⟩\n",
        "            QuantumExponentForPeriodFinding(a, num, x, y);\n",
        "\n",
        "            // measure y and reset\n",
        "            mutable tmpResult = new Result[n2];\n",
        "            for idx in 0 .. n2 - 1 {\n",
        "                set tmpResult w/= idx <-MResetZ(y[idx]);\n",
        "            }\n",
        "\n",
        "            // QFT for x\n",
        "            QFTImpl(x);\n",
        "\n",
        "            // Measure x and reset\n",
        "            mutable realResult = new Result[n1];\n",
        "            for idx in 0 .. n1 - 1 {\n",
        "                set realResult w/= idx <-MResetZ(x[idx]);\n",
        "            }\n",
        "            \n",
        "            // get integer's result from measured array (ex : |011⟩ -> 3)\n",
        "            let resultBool = [false] + Microsoft.Quantum.Convert.ResultArrayAsBoolArray(realResult); // for making unsigned positive integer, add first bit\n",
        "            let resultBool_R = Microsoft.Quantum.Arrays.Reversed(resultBool); // because BoolArrayAsBigInt() is Little Endian order\n",
        "            let resultIntL = Microsoft.Quantum.Convert.BoolArrayAsBigInt(resultBool_R);\n",
        "\n",
        "            // get period candidate by continued fraction expansion (thanks to Euclid !)\n",
        "            let gcdL = GreatestCommonDivisorL(resultIntL, 2L^n1);\n",
        "            let calculatedNumerator = resultIntL / gcdL;\n",
        "            let calculatedDenominator = 2L^n1 / gcdL;\n",
        "            let numL = Microsoft.Quantum.Convert.IntAsBigInt(num);\n",
        "            let approximatedFraction =\n",
        "                ContinuedFractionConvergentL(BigFraction(calculatedNumerator, calculatedDenominator), numL);\n",
        "            let (approximatedNumerator, approximatedDenominator) = approximatedFraction!;\n",
        "            mutable periodCandidateL = 0L;\n",
        "            if(approximatedDenominator < 0L) {\n",
        "                set periodCandidateL = approximatedDenominator * -1L;\n",
        "            }\n",
        "            else {\n",
        "                set periodCandidateL = approximatedDenominator;             \n",
        "            }\n",
        "            set periodCandidate = ReduceBigIntToInt(periodCandidateL);\n",
        "\n",
        "            // output for debugging\n",
        "            Message($\"Measured Fraction : {resultIntL} / {2L^n1}\");\n",
        "            Message($\"Approximated Fraction : {approximatedNumerator} / {approximatedDenominator}\");\n",
        "            Message($\"Period Candidate : {periodCandidate}\");\n",
        "        }\n",
        "    }\n",
        "    until ((periodCandidate != 0) and (ExpModI(a, periodCandidate, num) == 1))\n",
        "    fixup {\n",
        "    }\n",
        "\n",
        "    // output for debugging\n",
        "    Message(\"Found period \" + Microsoft.Quantum.Convert.IntAsString(periodCandidate));\n",
        "    Message(\"\");\n",
        "    return periodCandidate;\n",
        "}\n",
        "\n",
        "// This is a helper function to convert BigInt to Int\n",
        "operation ReduceBigIntToInt(numL : BigInt) : Int {\n",
        "    // Check if numL is not large\n",
        "    Microsoft.Quantum.Diagnostics.Fact(BitSizeL(numL) <= 32, $\"Cannot convert to Int. Input is too large\");\n",
        "\n",
        "    mutable resultInt = 0;\n",
        "    let numArray = Microsoft.Quantum.Convert.BigIntAsBoolArray(numL);\n",
        "    let numArray_R = Microsoft.Quantum.Arrays.Reversed(numArray); // because BigIntAsBoolArray() is Little Endian order\n",
        "    let nSize = Length(numArray_R);\n",
        "    for idx in 0 .. nSize - 1 {\n",
        "        if(numArray_R[idx] and ((nSize - 1) - idx <= 31)) {\n",
        "            set resultInt = resultInt + (2 ^ ((nSize - 1) - idx));\n",
        "        }\n",
        "    }\n",
        "    return resultInt;\n",
        "}"
      ],
      "outputs": [
        {
          "output_type": "stream",
          "name": "stdout",
          "text": "/snippet_.qs(15,33): warning QS3308: Deprecated syntax. Use [] to construct an empty array, or [x, size = n] to construct an array of x repeated n times.\n/snippet_.qs(24,34): warning QS3308: Deprecated syntax. Use [] to construct an empty array, or [x, size = n] to construct an array of x repeated n times.\n"
        }
      ],
      "execution_count": 5,
      "metadata": {
        "jupyter": {
          "source_hidden": false,
          "outputs_hidden": false
        },
        "nteract": {
          "transient": {
            "deleting": false
          }
        },
        "microsoft": {
          "language": "qsharp"
        }
      }
    },
    {
      "cell_type": "code",
      "source": [
        "import qsharp\n",
        "import random\n",
        "\n",
        "def is_prime(num):\n",
        "    if num <= 1:\n",
        "        return False\n",
        "    if num <= 3:\n",
        "        return True\n",
        "    if num % 2 == 0 or num % 3 == 0:\n",
        "        return False\n",
        "    i = 5\n",
        "    while i * i <= num:\n",
        "        if num % i == 0 or num % (i + 2) == 0:\n",
        "            return False\n",
        "        i += 6\n",
        "    return True\n",
        "\n",
        "def generate_random_prime(digits):\n",
        "    while True:\n",
        "        num = random.randint(10 ** (digits - 1), 10 ** digits - 1)\n",
        "        if is_prime(num):\n",
        "            return num\n",
        "\n",
        "n = generate_random_prime(2)\n",
        "print(f\"Número primo gerado (n): {n}\")\n"
      ],
      "outputs": [
        {
          "output_type": "stream",
          "name": "stdout",
          "text": "Número primo gerado (n): 23\n"
        }
      ],
      "execution_count": 30,
      "metadata": {
        "jupyter": {
          "source_hidden": false,
          "outputs_hidden": false
        },
        "nteract": {
          "transient": {
            "deleting": false
          }
        }
      }
    },
    {
      "cell_type": "code",
      "source": [
        "import qsharp\n",
        "import math\n",
        "from Microsoft.Quantum.Samples.PeriodFinding import QuantumPeriodFinding\n",
        "\n",
        "# Número primo gerado (n)\n",
        "n = 47  # Substitua pelo valor do número primo gerado\n",
        "\n",
        "# Chama a operação QuantumPeriodFinding para calcular o período\n",
        "periodCandidate = QuantumPeriodFinding.simulate(num=n, a=1)\n",
        "\n",
        "# Fatoração do número usando o período estimado\n",
        "a = 1  # Você pode escolher uma base apropriada\n",
        "if periodCandidate % 2 == 0 and pow(a, periodCandidate // 2, n) != n - 1:\n",
        "    factor1 = math.gcd(pow(a, periodCandidate // 2, n) - 1, n)\n",
        "    factor2 = math.gcd(pow(a, periodCandidate // 2, n) + 1, n)\n",
        "    print(f\"Fatores encontrados: {factor1}, {factor2}\")\n",
        "else:\n",
        "    print(\"Período não válido para fatorização.\")\n"
      ],
      "outputs": [
        {
          "output_type": "error",
          "ename": "KeyboardInterrupt",
          "evalue": "",
          "traceback": [
            "\u001b[0;31m---------------------------------------------------------------------------\u001b[0m",
            "\u001b[0;31mKeyboardInterrupt\u001b[0m                         Traceback (most recent call last)",
            "Cell \u001b[0;32mIn[1], line 1\u001b[0m\n\u001b[0;32m----> 1\u001b[0m \u001b[38;5;28;01mimport\u001b[39;00m \u001b[38;5;21;01mqsharp\u001b[39;00m\n\u001b[1;32m      2\u001b[0m \u001b[38;5;28;01mimport\u001b[39;00m \u001b[38;5;21;01mmath\u001b[39;00m\n\u001b[1;32m      3\u001b[0m \u001b[38;5;28;01mfrom\u001b[39;00m \u001b[38;5;21;01mMicrosoft\u001b[39;00m\u001b[38;5;21;01m.\u001b[39;00m\u001b[38;5;21;01mQuantum\u001b[39;00m\u001b[38;5;21;01m.\u001b[39;00m\u001b[38;5;21;01mSamples\u001b[39;00m\u001b[38;5;21;01m.\u001b[39;00m\u001b[38;5;21;01mPeriodFinding\u001b[39;00m \u001b[38;5;28;01mimport\u001b[39;00m QuantumPeriodFinding\n",
            "File \u001b[0;32m/usr/local/lib/python3.9/site-packages/qsharp/__init__.py:202\u001b[0m\n\u001b[1;32m    198\u001b[0m             processed_data\u001b[38;5;241m.\u001b[39mappend(diagnostic)\n\u001b[1;32m    200\u001b[0m \u001b[38;5;66;03m## STARTUP ##\u001b[39;00m\n\u001b[0;32m--> 202\u001b[0m client \u001b[38;5;241m=\u001b[39m \u001b[43m_start_client\u001b[49m\u001b[43m(\u001b[49m\u001b[43m)\u001b[49m\n\u001b[1;32m    203\u001b[0m config \u001b[38;5;241m=\u001b[39m Config(client)\n\u001b[1;32m    204\u001b[0m packages \u001b[38;5;241m=\u001b[39m Packages(client)\n",
            "File \u001b[0;32m/usr/local/lib/python3.9/site-packages/qsharp/clients/__init__.py:51\u001b[0m, in \u001b[0;36m_start_client\u001b[0;34m()\u001b[0m\n\u001b[1;32m     49\u001b[0m \u001b[38;5;28;01mfor\u001b[39;00m idx_attempt \u001b[38;5;129;01min\u001b[39;00m \u001b[38;5;28mrange\u001b[39m(\u001b[38;5;241m20\u001b[39m):\n\u001b[1;32m     50\u001b[0m     \u001b[38;5;28;01mtry\u001b[39;00m:\n\u001b[0;32m---> 51\u001b[0m         server_ready \u001b[38;5;241m=\u001b[39m \u001b[43mclient\u001b[49m\u001b[38;5;241;43m.\u001b[39;49m\u001b[43mis_ready\u001b[49m\u001b[43m(\u001b[49m\u001b[43m)\u001b[49m\n\u001b[1;32m     52\u001b[0m         \u001b[38;5;28;01mif\u001b[39;00m server_ready:\n\u001b[1;32m     53\u001b[0m             \u001b[38;5;28;01mbreak\u001b[39;00m\n",
            "File \u001b[0;32m/usr/local/lib/python3.9/site-packages/qsharp/clients/iqsharp.py:112\u001b[0m, in \u001b[0;36mIQSharpClient.is_ready\u001b[0;34m(self)\u001b[0m\n\u001b[1;32m    110\u001b[0m \u001b[38;5;28;01mdef\u001b[39;00m \u001b[38;5;21mis_ready\u001b[39m(\u001b[38;5;28mself\u001b[39m):\n\u001b[1;32m    111\u001b[0m     \u001b[38;5;28;01mtry\u001b[39;00m:\n\u001b[0;32m--> 112\u001b[0m         result \u001b[38;5;241m=\u001b[39m \u001b[38;5;28;43mself\u001b[39;49m\u001b[38;5;241;43m.\u001b[39;49m\u001b[43mcomponent_versions\u001b[49m\u001b[43m(\u001b[49m\u001b[43m_timeout_\u001b[49m\u001b[38;5;241;43m=\u001b[39;49m\u001b[38;5;241;43m6\u001b[39;49m\u001b[43m)\u001b[49m\n\u001b[1;32m    113\u001b[0m         logger\u001b[38;5;241m.\u001b[39minfo(\u001b[38;5;124mf\u001b[39m\u001b[38;5;124m\"\u001b[39m\u001b[38;5;124mQ# version\u001b[39m\u001b[38;5;130;01m\\n\u001b[39;00m\u001b[38;5;132;01m{\u001b[39;00mresult\u001b[38;5;132;01m}\u001b[39;00m\u001b[38;5;124m\"\u001b[39m)\n\u001b[1;32m    114\u001b[0m     \u001b[38;5;28;01mexcept\u001b[39;00m \u001b[38;5;167;01mException\u001b[39;00m \u001b[38;5;28;01mas\u001b[39;00m ex:\n",
            "File \u001b[0;32m/usr/local/lib/python3.9/site-packages/qsharp/clients/iqsharp.py:206\u001b[0m, in \u001b[0;36mIQSharpClient.component_versions\u001b[0;34m(self, **kwargs)\u001b[0m\n\u001b[1;32m    204\u001b[0m         \u001b[38;5;28;01mfor\u001b[39;00m component, version \u001b[38;5;129;01min\u001b[39;00m data[\u001b[38;5;124m\"\u001b[39m\u001b[38;5;124mrows\u001b[39m\u001b[38;5;124m\"\u001b[39m]:\n\u001b[1;32m    205\u001b[0m             versions[component] \u001b[38;5;241m=\u001b[39m LooseVersion(version)\n\u001b[0;32m--> 206\u001b[0m \u001b[38;5;28;43mself\u001b[39;49m\u001b[38;5;241;43m.\u001b[39;49m\u001b[43m_execute\u001b[49m\u001b[43m(\u001b[49m\u001b[38;5;124;43m\"\u001b[39;49m\u001b[38;5;124;43m%\u001b[39;49m\u001b[38;5;124;43mversion\u001b[39;49m\u001b[38;5;124;43m\"\u001b[39;49m\u001b[43m,\u001b[49m\u001b[43m \u001b[49m\u001b[43mdisplay_data_handler\u001b[49m\u001b[38;5;241;43m=\u001b[39;49m\u001b[43mcapture\u001b[49m\u001b[43m,\u001b[49m\u001b[43m \u001b[49m\u001b[43m_quiet_\u001b[49m\u001b[38;5;241;43m=\u001b[39;49m\u001b[38;5;28;43;01mTrue\u001b[39;49;00m\u001b[43m,\u001b[49m\u001b[43m \u001b[49m\u001b[38;5;241;43m*\u001b[39;49m\u001b[38;5;241;43m*\u001b[39;49m\u001b[43mkwargs\u001b[49m\u001b[43m)\u001b[49m\n\u001b[1;32m    207\u001b[0m \u001b[38;5;28;01mreturn\u001b[39;00m versions\n",
            "File \u001b[0;32m/usr/local/lib/python3.9/site-packages/qsharp/clients/iqsharp.py:358\u001b[0m, in \u001b[0;36mIQSharpClient._execute\u001b[0;34m(self, input, return_full_result, raise_on_stderr, output_hook, display_data_handler, _timeout_, _quiet_, **kwargs)\u001b[0m\n\u001b[1;32m    356\u001b[0m         \u001b[38;5;28;01mraise\u001b[39;00m AlreadyExecutingError(\u001b[38;5;124m\"\u001b[39m\u001b[38;5;124mCannot execute through the IQ# client while another execution is completing.\u001b[39m\u001b[38;5;124m\"\u001b[39m)\n\u001b[1;32m    357\u001b[0m     \u001b[38;5;28mself\u001b[39m\u001b[38;5;241m.\u001b[39m_busy \u001b[38;5;241m=\u001b[39m \u001b[38;5;28;01mTrue\u001b[39;00m\n\u001b[0;32m--> 358\u001b[0m     reply \u001b[38;5;241m=\u001b[39m \u001b[38;5;28;43mself\u001b[39;49m\u001b[38;5;241;43m.\u001b[39;49m\u001b[43mkernel_client\u001b[49m\u001b[38;5;241;43m.\u001b[39;49m\u001b[43mexecute_interactive\u001b[49m\u001b[43m(\u001b[49m\u001b[38;5;28;43minput\u001b[39;49m\u001b[43m,\u001b[49m\u001b[43m \u001b[49m\u001b[43mtimeout\u001b[49m\u001b[38;5;241;43m=\u001b[39;49m\u001b[43m_timeout_\u001b[49m\u001b[43m,\u001b[49m\u001b[43m \u001b[49m\u001b[43moutput_hook\u001b[49m\u001b[38;5;241;43m=\u001b[39;49m\u001b[43m_output_hook\u001b[49m\u001b[43m,\u001b[49m\u001b[43m \u001b[49m\u001b[38;5;241;43m*\u001b[39;49m\u001b[38;5;241;43m*\u001b[39;49m\u001b[43mkwargs\u001b[49m\u001b[43m)\u001b[49m\n\u001b[1;32m    359\u001b[0m \u001b[38;5;28;01mfinally\u001b[39;00m:\n\u001b[1;32m    360\u001b[0m     \u001b[38;5;28mself\u001b[39m\u001b[38;5;241m.\u001b[39m_busy \u001b[38;5;241m=\u001b[39m \u001b[38;5;28;01mFalse\u001b[39;00m\n",
            "File \u001b[0;32m/usr/local/lib/python3.9/site-packages/jupyter_core/utils/__init__.py:158\u001b[0m, in \u001b[0;36mrun_sync.<locals>.wrapped\u001b[0;34m(*args, **kwargs)\u001b[0m\n\u001b[1;32m    156\u001b[0m     \u001b[38;5;28;01mif\u001b[39;00m name \u001b[38;5;129;01mnot\u001b[39;00m \u001b[38;5;129;01min\u001b[39;00m _runner_map:\n\u001b[1;32m    157\u001b[0m         _runner_map[name] \u001b[38;5;241m=\u001b[39m _TaskRunner()\n\u001b[0;32m--> 158\u001b[0m     \u001b[38;5;28;01mreturn\u001b[39;00m \u001b[43m_runner_map\u001b[49m\u001b[43m[\u001b[49m\u001b[43mname\u001b[49m\u001b[43m]\u001b[49m\u001b[38;5;241;43m.\u001b[39;49m\u001b[43mrun\u001b[49m\u001b[43m(\u001b[49m\u001b[43minner\u001b[49m\u001b[43m)\u001b[49m\n\u001b[1;32m    159\u001b[0m \u001b[38;5;28;01mexcept\u001b[39;00m \u001b[38;5;167;01mRuntimeError\u001b[39;00m:\n\u001b[1;32m    160\u001b[0m     \u001b[38;5;28;01mpass\u001b[39;00m\n",
            "File \u001b[0;32m/usr/local/lib/python3.9/site-packages/jupyter_core/utils/__init__.py:125\u001b[0m, in \u001b[0;36m_TaskRunner.run\u001b[0;34m(self, coro)\u001b[0m\n\u001b[1;32m    123\u001b[0m         \u001b[38;5;28mself\u001b[39m\u001b[38;5;241m.\u001b[39m__runner_thread\u001b[38;5;241m.\u001b[39mstart()\n\u001b[1;32m    124\u001b[0m fut \u001b[38;5;241m=\u001b[39m asyncio\u001b[38;5;241m.\u001b[39mrun_coroutine_threadsafe(coro, \u001b[38;5;28mself\u001b[39m\u001b[38;5;241m.\u001b[39m__io_loop)\n\u001b[0;32m--> 125\u001b[0m \u001b[38;5;28;01mreturn\u001b[39;00m \u001b[43mfut\u001b[49m\u001b[38;5;241;43m.\u001b[39;49m\u001b[43mresult\u001b[49m\u001b[43m(\u001b[49m\u001b[38;5;28;43;01mNone\u001b[39;49;00m\u001b[43m)\u001b[49m\n",
            "File \u001b[0;32m/usr/local/lib/python3.9/concurrent/futures/_base.py:441\u001b[0m, in \u001b[0;36mFuture.result\u001b[0;34m(self, timeout)\u001b[0m\n\u001b[1;32m    438\u001b[0m \u001b[38;5;28;01melif\u001b[39;00m \u001b[38;5;28mself\u001b[39m\u001b[38;5;241m.\u001b[39m_state \u001b[38;5;241m==\u001b[39m FINISHED:\n\u001b[1;32m    439\u001b[0m     \u001b[38;5;28;01mreturn\u001b[39;00m \u001b[38;5;28mself\u001b[39m\u001b[38;5;241m.\u001b[39m__get_result()\n\u001b[0;32m--> 441\u001b[0m \u001b[38;5;28;43mself\u001b[39;49m\u001b[38;5;241;43m.\u001b[39;49m\u001b[43m_condition\u001b[49m\u001b[38;5;241;43m.\u001b[39;49m\u001b[43mwait\u001b[49m\u001b[43m(\u001b[49m\u001b[43mtimeout\u001b[49m\u001b[43m)\u001b[49m\n\u001b[1;32m    443\u001b[0m \u001b[38;5;28;01mif\u001b[39;00m \u001b[38;5;28mself\u001b[39m\u001b[38;5;241m.\u001b[39m_state \u001b[38;5;129;01min\u001b[39;00m [CANCELLED, CANCELLED_AND_NOTIFIED]:\n\u001b[1;32m    444\u001b[0m     \u001b[38;5;28;01mraise\u001b[39;00m CancelledError()\n",
            "File \u001b[0;32m/usr/local/lib/python3.9/threading.py:312\u001b[0m, in \u001b[0;36mCondition.wait\u001b[0;34m(self, timeout)\u001b[0m\n\u001b[1;32m    310\u001b[0m \u001b[38;5;28;01mtry\u001b[39;00m:    \u001b[38;5;66;03m# restore state no matter what (e.g., KeyboardInterrupt)\u001b[39;00m\n\u001b[1;32m    311\u001b[0m     \u001b[38;5;28;01mif\u001b[39;00m timeout \u001b[38;5;129;01mis\u001b[39;00m \u001b[38;5;28;01mNone\u001b[39;00m:\n\u001b[0;32m--> 312\u001b[0m         \u001b[43mwaiter\u001b[49m\u001b[38;5;241;43m.\u001b[39;49m\u001b[43macquire\u001b[49m\u001b[43m(\u001b[49m\u001b[43m)\u001b[49m\n\u001b[1;32m    313\u001b[0m         gotit \u001b[38;5;241m=\u001b[39m \u001b[38;5;28;01mTrue\u001b[39;00m\n\u001b[1;32m    314\u001b[0m     \u001b[38;5;28;01melse\u001b[39;00m:\n",
            "\u001b[0;31mKeyboardInterrupt\u001b[0m: "
          ]
        }
      ],
      "execution_count": 1,
      "metadata": {
        "jupyter": {
          "source_hidden": false,
          "outputs_hidden": false
        },
        "nteract": {
          "transient": {
            "deleting": false
          }
        }
      }
    }
  ],
  "metadata": {
    "language_info": {
      "name": "python",
      "version": "3.9.17",
      "mimetype": "text/x-python",
      "codemirror_mode": {
        "name": "ipython",
        "version": 3
      },
      "pygments_lexer": "ipython3",
      "nbconvert_exporter": "python",
      "file_extension": ".py"
    },
    "kernelspec": {
      "name": "python3",
      "language": "python",
      "display_name": "Python 3 (ipykernel)"
    },
    "kernel_info": {
      "name": "python3"
    },
    "nteract": {
      "version": "nteract-front-end@1.0.0"
    }
  },
  "nbformat": 4,
  "nbformat_minor": 0
}
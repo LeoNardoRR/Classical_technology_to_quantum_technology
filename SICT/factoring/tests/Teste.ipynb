{
  "cells": [
    {
      "cell_type": "code",
      "source": [
        "from azure.quantum import Workspace\n",
        "workspace = Workspace (\n",
        "   resource_id = \"/subscriptions/2f8b131d-6276-4fe0-be2d-4646cd04042a/resourceGroups/classicalcomputing/providers/Microsoft.Quantum/Workspaces/classicalcomputing\",\n",
        "   location = \"eastus\"\n",
        ")\n"
      ],
      "outputs": [],
      "execution_count": 1,
      "metadata": {
        "jupyter": {
          "source_hidden": false,
          "outputs_hidden": false
        },
        "nteract": {
          "transient": {
            "deleting": false
          }
        }
      }
    },
    {
      "cell_type": "code",
      "source": [
        "import qsharp"
      ],
      "outputs": [
        {
          "output_type": "stream",
          "name": "stdout",
          "text": "Preparing Q# environment...\n."
        }
      ],
      "execution_count": 1,
      "metadata": {
        "jupyter": {
          "source_hidden": false,
          "outputs_hidden": false
        },
        "nteract": {
          "transient": {
            "deleting": false
          }
        }
      }
    },
    {
      "cell_type": "code",
      "source": [
        "%%qsharp\n",
        "\n",
        "open Microsoft.Quantum.Intrinsic;\n",
        "open Microsoft.Quantum.Math;\n",
        "open Microsoft.Quantum.Measurement;\n",
        "\n",
        "operation QFTImpl (qs : Qubit[]) : Unit is Adj + Ctl\n",
        "{\n",
        "    body (...)\n",
        "    {\n",
        "        let nQubits = Length(qs);\n",
        "\n",
        "        for i in 0 .. nQubits - 1\n",
        "        {\n",
        "            H(qs[i]);\n",
        "            for j in i + 1 .. nQubits - 1\n",
        "            {\n",
        "                Controlled R1Frac([qs[j]], (1, j - i, qs[i]));\n",
        "            }\n",
        "        }\n",
        "\n",
        "        Microsoft.Quantum.Canon.SwapReverseRegister(qs);\n",
        "    }\n",
        "}"
      ],
      "outputs": [],
      "execution_count": 2,
      "metadata": {
        "jupyter": {
          "source_hidden": false,
          "outputs_hidden": false
        },
        "nteract": {
          "transient": {
            "deleting": false
          }
        },
        "microsoft": {
          "language": "qsharp"
        }
      }
    },
    {
      "cell_type": "code",
      "source": [
        "%%qsharp\n",
        "\n",
        "operation QuantumAdd (x : Qubit[], y : Qubit[]) : Unit is Adj + Ctl {\n",
        "    let n = Length(x);\n",
        "    QFTImpl(y);\n",
        "    for i in 0 .. n - 1 {\n",
        "        for j in 0 .. (n - 1) - i {\n",
        "            Controlled R1Frac([x[i + j]], (2, j + 1, (y)[(n - 1) - i]));\n",
        "        }\n",
        "    }\n",
        "    Adjoint QFTImpl(y);\n",
        "}\n",
        "\n",
        "operation QuantumAddByNumber (x : Qubit[], b : Int) : Unit is Adj + Ctl {\n",
        "    let n = Length(x);\n",
        "\n",
        "    // apply Draper adder for numeric\n",
        "    QFTImpl(x);\n",
        "    for i in 0 .. n - 1 {\n",
        "        for j in 0 .. (n - 1) - i {\n",
        "            if(not((b / 2^((n - 1) - (i + j))) % 2 == 0)) {\n",
        "                R1Frac(2, j + 1, (x)[(n - 1) - i]);\n",
        "            }\n",
        "        }\n",
        "    }\n",
        "    Adjoint QFTImpl(x);\n",
        "}\n",
        "\n",
        "operation QuantumAddByModulus (N : Int, x : Qubit[], y : Qubit[]) : Unit is Adj + Ctl {\n",
        "    use (ancilla, cx, cy) = (Qubit(), Qubit(), Qubit()) {\n",
        "        // add bit for preventing overflow\n",
        "        let x_large = [cx] + x;\n",
        "        let y_large = [cy] + y;\n",
        "        // |x⟩ |y⟩ -> |x⟩ |x + y⟩\n",
        "        QuantumAdd(x_large, y_large);\n",
        "        // |y⟩ -> |y - N⟩\n",
        "        Adjoint QuantumAddByNumber(y_large, N);\n",
        "        // Turn on ancilla when first bit is |1⟩ (i.e, when x + y - N < 0)\n",
        "        Controlled X([y_large[0]], ancilla);\n",
        "        // Add N back when ancilla is |1⟩\n",
        "        Controlled QuantumAddByNumber([ancilla], (y_large, N));\n",
        "        // set ancilla to |0⟩\n",
        "        Adjoint QuantumAdd(x_large, y_large);\n",
        "        X(ancilla);\n",
        "        Controlled X([y_large[0]], ancilla);\n",
        "        QuantumAdd(x_large, y_large);\n",
        "    }\n",
        "}\n",
        "\n",
        "operation QuantumMultiplyByModulus (N : Int, a : Int, y : Qubit[]) : Unit is Adj + Ctl {\n",
        "    let n = Length(y);\n",
        "    let a_mod = a % N;\n",
        "\n",
        "    use s = Qubit[n] {\n",
        "        // start |y⟩ |0⟩\n",
        "\n",
        "        // apply adder by repeating \"a\" (integer) times\n",
        "        for r in 0 .. a_mod - 1 {\n",
        "            QuantumAddByModulus(N, y, s);\n",
        "        }\n",
        "        // now |y⟩ |a y mod N⟩\n",
        "\n",
        "        // swap first register and second one by tuple\n",
        "        Microsoft.Quantum.Canon.ApplyToEachCA(SWAP, Microsoft.Quantum.Arrays.Zipped(y, s));\n",
        "        // now |a y mod N⟩ |y⟩\n",
        "\n",
        "        // reset all s qubits !\n",
        "        // but it's tricky because we cannot use \"Reset()\" since here is controlled operator.\n",
        "        let a_inv = InverseModI(a_mod, N);\n",
        "        for r in 0 .. a_inv - 1 {\n",
        "            Adjoint QuantumAddByModulus(N, y, s);\n",
        "        }\n",
        "    }\n",
        "}"
      ],
      "outputs": [],
      "execution_count": 3,
      "metadata": {
        "jupyter": {
          "source_hidden": false,
          "outputs_hidden": false
        },
        "nteract": {
          "transient": {
            "deleting": false
          }
        },
        "microsoft": {
          "language": "qsharp"
        }
      }
    },
    {
      "cell_type": "code",
      "source": [
        "%%qsharp\n",
        "\n",
        "operation QuantumExponentForPeriodFinding (a : Int, N : Int, x : Qubit[], y : Qubit[]) : Unit {\n",
        "    let n1 = Length(x);\n",
        "    let n2 = Length(y);\n",
        "\n",
        "    // set |y⟩ = |0...01⟩\n",
        "    X(y[n2 - 1]);\n",
        "\n",
        "    for idx in 0 .. n1 - 1 {\n",
        "        // a^(2^((n1-1) - idx)) is too big, then we reduce beforehand\n",
        "        mutable a_mod = 1;\n",
        "        for power in 1 .. 2^((n1-1) - idx) {\n",
        "            set a_mod = (a_mod * a) % N;\n",
        "        }\n",
        "        // apply decomposition elements\n",
        "        Controlled QuantumMultiplyByModulus([x[idx]], (N, a_mod, y));\n",
        "    }\n",
        "}"
      ],
      "outputs": [],
      "execution_count": 4,
      "metadata": {
        "jupyter": {
          "source_hidden": false,
          "outputs_hidden": false
        },
        "nteract": {
          "transient": {
            "deleting": false
          }
        },
        "microsoft": {
          "language": "qsharp"
        }
      }
    },
    {
      "cell_type": "code",
      "source": [
        "%%qsharp\n",
        "\n",
        "operation QuantumPeriodFinding(num : Int, a : Int) : Unit {\n",
        "    // Get least integer n1 such as : num^2 <= 2^n1\n",
        "    let n1 = BitSizeI(num) * 2;\n",
        "    let n2 = BitSizeI(num);\n",
        "    mutable periodCandidate = 1;\n",
        "    repeat {\n",
        "        use (x, y) = (Qubit[n1], Qubit[n2]) {\n",
        "            Microsoft.Quantum.Canon.ApplyToEachCA(H, x);\n",
        "\n",
        "            // |x⟩ |0 (=y)⟩ -> |x⟩ |a^x mod N⟩\n",
        "            QuantumExponentForPeriodFinding(a, num, x, y);\n",
        "\n",
        "            // measure y and reset\n",
        "            mutable tmpResult = new Result[n2];\n",
        "            for idx in 0 .. n2 - 1 {\n",
        "                set tmpResult w/= idx <-MResetZ(y[idx]);\n",
        "            }\n",
        "\n",
        "            // QFT for x\n",
        "            QFTImpl(x);\n",
        "\n",
        "            // Measure x and reset\n",
        "            mutable realResult = new Result[n1];\n",
        "            for idx in 0 .. n1 - 1 {\n",
        "                set realResult w/= idx <-MResetZ(x[idx]);\n",
        "            }\n",
        "            \n",
        "            // get integer's result from measured array (ex : |011⟩ -> 3)\n",
        "            let resultBool = [false] + Microsoft.Quantum.Convert.ResultArrayAsBoolArray(realResult); // for making unsigned positive integer, add first bit\n",
        "            let resultBool_R = Microsoft.Quantum.Arrays.Reversed(resultBool); // because BoolArrayAsBigInt() is Little Endian order\n",
        "            let resultIntL = Microsoft.Quantum.Convert.BoolArrayAsBigInt(resultBool_R);\n",
        "\n",
        "            // get period candidate by continued fraction expansion (thanks to Euclid !)\n",
        "            let gcdL = GreatestCommonDivisorL(resultIntL, 2L^n1);\n",
        "            let calculatedNumerator = resultIntL / gcdL;\n",
        "            let calculatedDenominator = 2L^n1 / gcdL;\n",
        "            let numL = Microsoft.Quantum.Convert.IntAsBigInt(num);\n",
        "            let approximatedFraction =\n",
        "                ContinuedFractionConvergentL(BigFraction(calculatedNumerator, calculatedDenominator), numL);\n",
        "            let (approximatedNumerator, approximatedDenominator) = approximatedFraction!;\n",
        "            mutable periodCandidateL = 0L;\n",
        "            if(approximatedDenominator < 0L) {\n",
        "                set periodCandidateL = approximatedDenominator * -1L;\n",
        "            }\n",
        "            else {\n",
        "                set periodCandidateL = approximatedDenominator;             \n",
        "            }\n",
        "            set periodCandidate = ReduceBigIntToInt(periodCandidateL);\n",
        "\n",
        "            // output for debugging\n",
        "            Message($\"Fração : {resultIntL} / {2L^n1}\");\n",
        "            Message($\"Fração aproximada : {approximatedNumerator} / {approximatedDenominator}\");\n",
        "            Message($\"Periodo candidato : {periodCandidate}\");\n",
        "        }\n",
        "    }\n",
        "    until ((periodCandidate != 0) and (ExpModI(a, periodCandidate, num) == 1))\n",
        "    fixup {\n",
        "    }\n",
        "}\n",
        "\n",
        "// This is a helper function to convert BigInt to Int\n",
        "operation ReduceBigIntToInt(numL : BigInt) : Int {\n",
        "    // Check if numL is not large\n",
        "    Microsoft.Quantum.Diagnostics.Fact(BitSizeL(numL) <= 32, $\"Cannot convert to Int. Input is too large\");\n",
        "\n",
        "    mutable resultInt = 0;\n",
        "    let numArray = Microsoft.Quantum.Convert.BigIntAsBoolArray(numL);\n",
        "    let numArray_R = Microsoft.Quantum.Arrays.Reversed(numArray); // because BigIntAsBoolArray() is Little Endian order\n",
        "    let nSize = Length(numArray_R);\n",
        "    for idx in 0 .. nSize - 1 {\n",
        "        if(numArray_R[idx] and ((nSize - 1) - idx <= 31)) {\n",
        "            set resultInt = resultInt + (2 ^ ((nSize - 1) - idx));\n",
        "        }\n",
        "    }\n",
        "    return resultInt;\n",
        "}"
      ],
      "outputs": [
        {
          "output_type": "stream",
          "name": "stdout",
          "text": "/snippet_.qs(15,33): warning QS3308: Deprecated syntax. Use [] to construct an empty array, or [x, size = n] to construct an array of x repeated n times.\n/snippet_.qs(24,34): warning QS3308: Deprecated syntax. Use [] to construct an empty array, or [x, size = n] to construct an array of x repeated n times.\n"
        }
      ],
      "execution_count": 5,
      "metadata": {
        "jupyter": {
          "source_hidden": false,
          "outputs_hidden": false
        },
        "nteract": {
          "transient": {
            "deleting": false
          }
        },
        "microsoft": {
          "language": "qsharp"
        }
      }
    },
    {
      "cell_type": "code",
      "source": [
        "from math import gcd\n",
        "\n",
        "# Defina os valores de N e a\n",
        "N_values = [11, 15]\n",
        "a_values = [5, 7]\n",
        "\n",
        "# Simula a busca de período quântico para cada par de N e a\n",
        "for N, a in zip(N_values, a_values):\n",
        "    res = QuantumPeriodFinding.simulate(num=N, a=a)\n",
        "    period_candidate = res"
      ],
      "outputs": [
        {
          "output_type": "stream",
          "name": "stdout",
          "text": "Fração : 154 / 256\nFração aproximada : 3 / 5\nPeriodo candidato : 5\nFração : 128 / 256\nFração aproximada : -1 / -2\nPeriodo candidato : 2\nFração : 128 / 256\nFração aproximada : -1 / -2\nPeriodo candidato : 2\nFração : 64 / 256\nFração aproximada : -1 / -4\nPeriodo candidato : 4\n"
        }
      ],
      "execution_count": 6,
      "metadata": {
        "jupyter": {
          "source_hidden": false,
          "outputs_hidden": false
        },
        "nteract": {
          "transient": {
            "deleting": false
          }
        }
      }
    },
    {
      "cell_type": "code",
      "source": [
        "import qsharp\n",
        "import time\n",
        "import math\n",
        "from sympy import randprime\n",
        "from Microsoft.Quantum.Samples.SimplePeriodFinding import QuantumPeriodFinding\n",
        "\n",
        "# Defina o valor de 'a'\n",
        "a = 5  # Por exemplo\n",
        "\n",
        "# Gere o número primo\n",
        "n = randprime(10, 100)  # Gera um número primo aleatório entre 10 e 100\n",
        "print(f\"Número primo gerado: {n}\")\n",
        "\n",
        "# Execute o algoritmo de Period Finding para obter o período\n",
        "periodCandidate = QuantumPeriodFinding.simulate(a=a, N=n)\n",
        "\n",
        "start_time = time.time()\n",
        "\n",
        "# Verifica se o período candidato satisfaz as condições para fatorização\n",
        "if periodCandidate % 2 == 0 and pow(a, periodCandidate // 2, n) != n - 1:\n",
        "    factor1 = math.gcd(pow(a, periodCandidate // 2, n) - 1, n)\n",
        "    factor2 = n // factor1\n",
        "    print(f\"Fatores encontrados: {factor1}, {factor2}\")\n",
        "else:\n",
        "    print(\"Período não válido para fatorização.\")\n",
        "\n",
        "end_time = time.time()\n",
        "execution_time = end_time - start_time\n",
        "\n",
        "print(f\"Tempo de execução: {execution_time:.6f} segundos\")"
      ],
      "outputs": [
        {
          "output_type": "error",
          "ename": "ModuleNotFoundError",
          "evalue": "No module named 'Microsoft'",
          "traceback": [
            "\u001b[0;31m---------------------------------------------------------------------------\u001b[0m",
            "\u001b[0;31mModuleNotFoundError\u001b[0m                       Traceback (most recent call last)",
            "Cell \u001b[0;32mIn[14], line 5\u001b[0m\n\u001b[1;32m      3\u001b[0m \u001b[38;5;28;01mimport\u001b[39;00m \u001b[38;5;21;01mmath\u001b[39;00m\n\u001b[1;32m      4\u001b[0m \u001b[38;5;28;01mfrom\u001b[39;00m \u001b[38;5;21;01msympy\u001b[39;00m \u001b[38;5;28;01mimport\u001b[39;00m randprime\n\u001b[0;32m----> 5\u001b[0m \u001b[38;5;28;01mfrom\u001b[39;00m \u001b[38;5;21;01mMicrosoft\u001b[39;00m\u001b[38;5;21;01m.\u001b[39;00m\u001b[38;5;21;01mQuantum\u001b[39;00m\u001b[38;5;21;01m.\u001b[39;00m\u001b[38;5;21;01mSamples\u001b[39;00m\u001b[38;5;21;01m.\u001b[39;00m\u001b[38;5;21;01mSimplePeriodFinding\u001b[39;00m \u001b[38;5;28;01mimport\u001b[39;00m QuantumPeriodFinding\n\u001b[1;32m      7\u001b[0m \u001b[38;5;66;03m# Defina o valor de 'a'\u001b[39;00m\n\u001b[1;32m      8\u001b[0m a \u001b[38;5;241m=\u001b[39m \u001b[38;5;241m5\u001b[39m  \u001b[38;5;66;03m# Por exemplo\u001b[39;00m\n",
            "\u001b[0;31mModuleNotFoundError\u001b[0m: No module named 'Microsoft'"
          ]
        }
      ],
      "execution_count": 14,
      "metadata": {
        "jupyter": {
          "source_hidden": false,
          "outputs_hidden": false
        },
        "nteract": {
          "transient": {
            "deleting": false
          }
        }
      }
    },
    {
      "cell_type": "code",
      "source": [
        "import time\n",
        "import math\n",
        "import random\n",
        "\n",
        "# Defina o valor de 'a'\n",
        "a = 5  # Por exemplo\n",
        "\n",
        "# Função para verificar se um número é primo\n",
        "def is_prime(num):\n",
        "    if num <= 1:\n",
        "        return False\n",
        "    if num <= 3:\n",
        "        return True\n",
        "    if num % 2 == 0 or num % 3 == 0:\n",
        "        return False\n",
        "    i = 5\n",
        "    while i * i <= num:\n",
        "        if num % i == 0 or num % (i + 2) == 0:\n",
        "            return False\n",
        "        i += 6\n",
        "    return True\n",
        "\n",
        "# Gere um número composto aleatório (não primo)\n",
        "def generate_composite(min_value, max_value):\n",
        "    while True:\n",
        "        num = random.randint(min_value, max_value)\n",
        "        if num > 1 and not is_prime(num):\n",
        "            return num\n",
        "\n",
        "n = generate_composite(100000000000000, 100000000000000)\n",
        "print(f\"Número composto gerado: {n}\")\n",
        "\n",
        "start_time = time.time()\n",
        "\n",
        "# Tenta encontrar os fatores usando o método de fatorização\n",
        "factors = []\n",
        "for factor in range(2, n):\n",
        "    while n % factor == 0:\n",
        "        factors.append(factor)\n",
        "        n //= factor\n",
        "    if n == 1:\n",
        "        break\n",
        "\n",
        "end_time = time.time()\n",
        "execution_time = end_time - start_time\n",
        "\n",
        "if len(factors) > 1:\n",
        "    print(f\"Fatores encontrados: {', '.join(map(str, factors))}\")\n",
        "else:\n",
        "    print(\"Não foi possível encontrar fatores.\")\n",
        "\n",
        "print(f\"Tempo de execução: {execution_time:.6f} segundos\")"
      ],
      "outputs": [
        {
          "output_type": "stream",
          "name": "stdout",
          "text": "Número composto gerado: 230067603970783\n"
        },
        {
          "output_type": "error",
          "ename": "KeyboardInterrupt",
          "evalue": "",
          "traceback": [
            "\u001b[0;31m---------------------------------------------------------------------------\u001b[0m",
            "\u001b[0;31mKeyboardInterrupt\u001b[0m                         Traceback (most recent call last)",
            "Cell \u001b[0;32mIn[17], line 38\u001b[0m\n\u001b[1;32m     36\u001b[0m factors \u001b[38;5;241m=\u001b[39m []\n\u001b[1;32m     37\u001b[0m \u001b[38;5;28;01mfor\u001b[39;00m factor \u001b[38;5;129;01min\u001b[39;00m \u001b[38;5;28mrange\u001b[39m(\u001b[38;5;241m2\u001b[39m, n):\n\u001b[0;32m---> 38\u001b[0m     \u001b[38;5;28;01mwhile\u001b[39;00m \u001b[43mn\u001b[49m\u001b[43m \u001b[49m\u001b[38;5;241;43m%\u001b[39;49m\u001b[43m \u001b[49m\u001b[43mfactor\u001b[49m\u001b[43m \u001b[49m\u001b[38;5;241;43m==\u001b[39;49m\u001b[43m \u001b[49m\u001b[38;5;241;43m0\u001b[39;49m:\n\u001b[1;32m     39\u001b[0m         factors\u001b[38;5;241m.\u001b[39mappend(factor)\n\u001b[1;32m     40\u001b[0m         n \u001b[38;5;241m/\u001b[39m\u001b[38;5;241m/\u001b[39m\u001b[38;5;241m=\u001b[39m factor\n",
            "\u001b[0;31mKeyboardInterrupt\u001b[0m: "
          ]
        }
      ],
      "execution_count": 17,
      "metadata": {
        "jupyter": {
          "source_hidden": false,
          "outputs_hidden": false
        },
        "nteract": {
          "transient": {
            "deleting": false
          }
        }
      }
    }
  ],
  "metadata": {
    "language_info": {
      "name": "python",
      "version": "3.9.17",
      "mimetype": "text/x-python",
      "codemirror_mode": {
        "name": "ipython",
        "version": 3
      },
      "pygments_lexer": "ipython3",
      "nbconvert_exporter": "python",
      "file_extension": ".py"
    },
    "kernelspec": {
      "name": "python3",
      "language": "python",
      "display_name": "Python 3 (ipykernel)"
    },
    "kernel_info": {
      "name": "python3"
    },
    "nteract": {
      "version": "nteract-front-end@1.0.0"
    }
  },
  "nbformat": 4,
  "nbformat_minor": 0
}
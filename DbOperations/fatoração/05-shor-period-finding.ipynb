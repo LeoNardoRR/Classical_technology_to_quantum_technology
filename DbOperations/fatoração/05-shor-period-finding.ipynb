{
 "cells": [
  {
   "attachments": {},
   "cell_type": "markdown",
   "id": "afd0dd2f",
   "metadata": {},
   "source": [
    "# Quantum Period Finding - Shor’s Algorithm (Q# code)\n",
    "\n",
    "This notebook implements quantum period finding, Shor's algorithm, in Q#.\n",
    "\n",
    "See [here](https://tsmatz.wordpress.com/2019/06/04/quantum-integer-factorization-by-shor-period-finding-algorithm/) for mathematical background.\n",
    "\n",
    "> Note : For the purpose of your understanding, here I implement algorithm very straightforward without any optimization. (So many QFTs are called inside this code.)<br>\n",
    "> See \"[Circuit for Shor's algorithm using 2n + 3 qubits](https://arxiv.org/pdf/quant-ph/0205095v3.pdf)\" for more optimized algorithms.\n",
    "\n",
    "*back to [index](https://github.com/tsmatz/quantum-algorithms-qsharp)*"
   ]
  },
  {
   "cell_type": "code",
   "execution_count": null,
   "id": "9af781e2",
   "metadata": {},
   "outputs": [
    {
     "name": "stdout",
     "output_type": "stream",
     "text": [
      "Preparing Q# environment...\n"
     ]
    }
   ],
   "source": [
    "import qsharp"
   ]
  },
  {
   "attachments": {},
   "cell_type": "markdown",
   "id": "65e2308f",
   "metadata": {},
   "source": [
    "## Implement Helper Operations"
   ]
  },
  {
   "attachments": {},
   "cell_type": "markdown",
   "id": "0d5c466e",
   "metadata": {},
   "source": [
    "For preparation, implement **Quantum Fourier Transform (shortly, QFT)** as follows. (The code is same as [03-phase-estimation.ipynb](./03-phase-estimation.ipynb).)\n",
    "\n",
    "See [here](https://tsmatz.wordpress.com/2019/04/26/quantum-computing-qsharp-quantum-fourier-transform-and-phase-estimation/) for details about this code.\n",
    "\n",
    "> Note : You can also use built-in ```Microsoft.Quantum.Canon.QFT()``` instead."
   ]
  },
  {
   "cell_type": "code",
   "execution_count": 1,
   "id": "d04e8af4",
   "metadata": {},
   "outputs": [
    {
     "data": {
      "application/x-qsharp-data": "[\"QFTImpl\"]",
      "text/html": [
       "<ul><li>QFTImpl</li></ul>"
      ],
      "text/plain": [
       "QFTImpl"
      ]
     },
     "execution_count": 1,
     "metadata": {
      "application/x-qsharp-data": {},
      "text/html": {},
      "text/plain": {}
     },
     "output_type": "execute_result"
    }
   ],
   "source": [
    "open Microsoft.Quantum.Intrinsic;\n",
    "open Microsoft.Quantum.Math;\n",
    "open Microsoft.Quantum.Measurement;\n",
    "\n",
    "operation QFTImpl (qs : Qubit[]) : Unit is Adj + Ctl\n",
    "{\n",
    "    body (...)\n",
    "    {\n",
    "        let nQubits = Length(qs);\n",
    "\n",
    "        for i in 0 .. nQubits - 1\n",
    "        {\n",
    "            H(qs[i]);\n",
    "            for j in i + 1 .. nQubits - 1\n",
    "            {\n",
    "                Controlled R1Frac([qs[j]], (1, j - i, qs[i]));\n",
    "            }\n",
    "        }\n",
    "\n",
    "        Microsoft.Quantum.Canon.SwapReverseRegister(qs);\n",
    "    }\n",
    "}"
   ]
  },
  {
   "attachments": {},
   "cell_type": "markdown",
   "id": "d288b114",
   "metadata": {},
   "source": [
    "For preparation, implement Quantum Adder and Multiplier as follows. (The code is same as [04-arithmetic-operations.ipynb](./04-arithmetic-operations.ipynb).)\n",
    "\n",
    "See [here](https://tsmatz.wordpress.com/2019/05/22/quantum-computing-modulus-add-subtract-multiply-exponent/) for details about this code."
   ]
  },
  {
   "cell_type": "code",
   "execution_count": 2,
   "id": "eff9a93b",
   "metadata": {},
   "outputs": [
    {
     "data": {
      "application/x-qsharp-data": "[\"QuantumAdd\",\"QuantumAddByNumber\",\"QuantumAddByModulus\",\"QuantumMultiplyByModulus\"]",
      "text/html": [
       "<ul><li>QuantumAdd</li><li>QuantumAddByNumber</li><li>QuantumAddByModulus</li><li>QuantumMultiplyByModulus</li></ul>"
      ],
      "text/plain": [
       "QuantumAdd, QuantumAddByNumber, QuantumAddByModulus, QuantumMultiplyByModulus"
      ]
     },
     "execution_count": 2,
     "metadata": {
      "application/x-qsharp-data": {},
      "text/html": {},
      "text/plain": {}
     },
     "output_type": "execute_result"
    }
   ],
   "source": [
    "operation QuantumAdd (x : Qubit[], y : Qubit[]) : Unit is Adj + Ctl {\n",
    "    let n = Length(x);\n",
    "    QFTImpl(y);\n",
    "    for i in 0 .. n - 1 {\n",
    "        for j in 0 .. (n - 1) - i {\n",
    "            Controlled R1Frac([x[i + j]], (2, j + 1, (y)[(n - 1) - i]));\n",
    "        }\n",
    "    }\n",
    "    Adjoint QFTImpl(y);\n",
    "}\n",
    "\n",
    "operation QuantumAddByNumber (x : Qubit[], b : Int) : Unit is Adj + Ctl {\n",
    "    let n = Length(x);\n",
    "\n",
    "    // apply Draper adder for numeric\n",
    "    QFTImpl(x);\n",
    "    for i in 0 .. n - 1 {\n",
    "        for j in 0 .. (n - 1) - i {\n",
    "            if(not((b / 2^((n - 1) - (i + j))) % 2 == 0)) {\n",
    "                R1Frac(2, j + 1, (x)[(n - 1) - i]);\n",
    "            }\n",
    "        }\n",
    "    }\n",
    "    Adjoint QFTImpl(x);\n",
    "}\n",
    "\n",
    "operation QuantumAddByModulus (N : Int, x : Qubit[], y : Qubit[]) : Unit is Adj + Ctl {\n",
    "    use (ancilla, cx, cy) = (Qubit(), Qubit(), Qubit()) {\n",
    "        // add bit for preventing overflow\n",
    "        let x_large = [cx] + x;\n",
    "        let y_large = [cy] + y;\n",
    "        // |x⟩ |y⟩ -> |x⟩ |x + y⟩\n",
    "        QuantumAdd(x_large, y_large);\n",
    "        // |y⟩ -> |y - N⟩\n",
    "        Adjoint QuantumAddByNumber(y_large, N);\n",
    "        // Turn on ancilla when first bit is |1⟩ (i.e, when x + y - N < 0)\n",
    "        Controlled X([y_large[0]], ancilla);\n",
    "        // Add N back when ancilla is |1⟩\n",
    "        Controlled QuantumAddByNumber([ancilla], (y_large, N));\n",
    "        // set ancilla to |0⟩\n",
    "        Adjoint QuantumAdd(x_large, y_large);\n",
    "        X(ancilla);\n",
    "        Controlled X([y_large[0]], ancilla);\n",
    "        QuantumAdd(x_large, y_large);\n",
    "    }\n",
    "}\n",
    "\n",
    "operation QuantumMultiplyByModulus (N : Int, a : Int, y : Qubit[]) : Unit is Adj + Ctl {\n",
    "    let n = Length(y);\n",
    "    let a_mod = a % N;\n",
    "\n",
    "    use s = Qubit[n] {\n",
    "        // start |y⟩ |0⟩\n",
    "\n",
    "        // apply adder by repeating \"a\" (integer) times\n",
    "        for r in 0 .. a_mod - 1 {\n",
    "            QuantumAddByModulus(N, y, s);\n",
    "        }\n",
    "        // now |y⟩ |a y mod N⟩\n",
    "\n",
    "        // swap first register and second one by tuple\n",
    "        Microsoft.Quantum.Canon.ApplyToEachCA(SWAP, Microsoft.Quantum.Arrays.Zipped(y, s));\n",
    "        // now |a y mod N⟩ |y⟩\n",
    "\n",
    "        // reset all s qubits !\n",
    "        // but it's tricky because we cannot use \"Reset()\" since here is controlled operator.\n",
    "        let a_inv = InverseModI(a_mod, N);\n",
    "        for r in 0 .. a_inv - 1 {\n",
    "            Adjoint QuantumAddByModulus(N, y, s);\n",
    "        }\n",
    "    }\n",
    "}"
   ]
  },
  {
   "attachments": {},
   "cell_type": "markdown",
   "id": "0ccea1b2",
   "metadata": {},
   "source": [
    "Implement a modified quantum exponentiation by modulus N (modified version of ```QuantumExponentByModulus()```) :\n",
    "\n",
    "|x⟩ |0 (=y)⟩ -> |x⟩ |a^x mod N⟩ for some integer a\n",
    "\n",
    "where y should be |0⟩"
   ]
  },
  {
   "cell_type": "code",
   "execution_count": 3,
   "id": "a4283503",
   "metadata": {},
   "outputs": [
    {
     "data": {
      "application/x-qsharp-data": "[\"QuantumExponentForPeriodFinding\"]",
      "text/html": [
       "<ul><li>QuantumExponentForPeriodFinding</li></ul>"
      ],
      "text/plain": [
       "QuantumExponentForPeriodFinding"
      ]
     },
     "execution_count": 3,
     "metadata": {
      "application/x-qsharp-data": {},
      "text/html": {},
      "text/plain": {}
     },
     "output_type": "execute_result"
    }
   ],
   "source": [
    "operation QuantumExponentForPeriodFinding (a : Int, N : Int, x : Qubit[], y : Qubit[]) : Unit {\n",
    "    let n1 = Length(x);\n",
    "    let n2 = Length(y);\n",
    "\n",
    "    // set |y⟩ = |0...01⟩\n",
    "    X(y[n2 - 1]);\n",
    "\n",
    "    for idx in 0 .. n1 - 1 {\n",
    "        // a^(2^((n1-1) - idx)) is too big, then we reduce beforehand\n",
    "        mutable a_mod = 1;\n",
    "        for power in 1 .. 2^((n1-1) - idx) {\n",
    "            set a_mod = (a_mod * a) % N;\n",
    "        }\n",
    "        // apply decomposition elements\n",
    "        Controlled QuantumMultiplyByModulus([x[idx]], (N, a_mod, y));\n",
    "    }\n",
    "}"
   ]
  },
  {
   "attachments": {},
   "cell_type": "markdown",
   "id": "534ac6a9",
   "metadata": {},
   "source": [
    "## Implement Shor's algorithm"
   ]
  },
  {
   "cell_type": "code",
   "execution_count": 11,
   "id": "e6fd628d",
   "metadata": {},
   "outputs": [
    {
     "data": {
      "application/x-qsharp-data": "{\"Source\":\"operation QuantumPeriodFinding (num : Int, a : Int) : Unit {\\n    // Get least integer n1 such as : num^2 <= 2^n1\\n    let n1 = BitSizeI(num) * 2;\\n    let n2 = BitSizeI(num);\\n    mutable periodCandidate = 1;\\n    repeat {\\n        use (x, y) = (Qubit[n1], Qubit[n2]) {\\n            Microsoft.Quantum.Canon.ApplyToEachCA(H, x);\\n\\n            // |x⟩ |0 (=y)⟩ -> |x⟩ |a^x mod N⟩\\n            QuantumExponentForPeriodFinding(a, num, x, y);\\n\\n            // measure y and reset\\n            mutable tmpResult = y, new Result = n2;\\n            for idx in 0 .. n2 - 1 {\\n                set tmpResult w/= idx <-MResetZ(y[idx]);\\n            }\\n\\n            // QFT for x\\n            QFTImpl(x);\\n\\n            // Measure x and reset\\n            mutable realResult = x, new Result = n1;\\n            for idx in 0 .. n1 - 1 {\\n                set realResult w/= idx <-MResetZ(x[idx]);\\n            }\\n            \\n            // get integer's result from measured array (ex : |011⟩ -> 3)\\n            let resultBool = [false] + Microsoft.Quantum.Convert.ResultArrayAsBoolArray(realResult); // for making unsigned positive integer, add first bit\\n            let resultBool_R = Microsoft.Quantum.Arrays.Reversed(resultBool); // because BoolArrayAsBigInt() is Little Endian order\\n            let resultIntL = Microsoft.Quantum.Convert.BoolArrayAsBigInt(resultBool_R);\\n\\n            // get period candidate by continued fraction expansion (thanks to Euclid !)\\n            let gcdL = GreatestCommonDivisorL(resultIntL, 2L^n1);\\n            let calculatedNumerator = resultIntL / gcdL;\\n            let calculatedDenominator = 2L^n1 / gcdL;\\n            let numL = Microsoft.Quantum.Convert.IntAsBigInt(num);\\n            let approximatedFraction =\\n                ContinuedFractionConvergentL(BigFraction(calculatedNumerator, calculatedDenominator), numL);\\n            let (approximatedNumerator, approximatedDenominator) = approximatedFraction!;\\n            mutable periodCandidateL = 0L;\\n            if(approximatedDenominator < 0L) {\\n                set periodCandidateL = approximatedDenominator * -1L;\\n            }\\n            else {\\n                set periodCandidateL = approximatedDenominator;             \\n            }\\n            set periodCandidate = ReduceBigIntToInt(periodCandidateL);\\n\\n            // output for debugging\\n            Message($\\\"Measured Fraction : {resultIntL} / {2L^n1}\\\");\\n            Message($\\\"Approximated Fraction : {approximatedNumerator} / {approximatedDenominator}\\\");\\n            Message($\\\"Period Candidate : {periodCandidate}\\\");\\n        }\\n    }\\n    until ((periodCandidate != 0) and (ExpModI(a, periodCandidate, num) == 1))\\n    fixup {\\n    }\\n\\n    // output for debugging\\n    Message(\\\"Found period \\\" + Microsoft.Quantum.Convert.IntAsString(periodCandidate));\\n    Message(\\\"\\\");\\n}\\n\\n// This is a helper function to convert BigInt to Int\\noperation ReduceBigIntToInt(numL : BigInt) : Int {\\n    // Check if numL is not large\\n    Microsoft.Quantum.Diagnostics.Fact(BitSizeL(numL) <= 32, $\\\"Cannot convert to Int. Input is too large\\\");\\n\\n    mutable resultInt = 0;\\n    let numArray = Microsoft.Quantum.Convert.BigIntAsBoolArray(numL);\\n    let numArray_R = Microsoft.Quantum.Arrays.Reversed(numArray); // because BigIntAsBoolArray() is Little Endian order\\n    let nSize = Length(numArray_R);\\n    for idx in 0 .. nSize - 1 {\\n        if(numArray_R[idx] and ((nSize - 1) - idx <= 31)) {\\n            set resultInt = resultInt + (2 ^ ((nSize - 1) - idx));\\n        }\\n    }\\n    return resultInt;\\n}\",\"Diagnostic\":{\"range\":{\"start\":{\"line\":13,\"character\":33},\"end\":{\"line\":13,\"character\":50}},\"severity\":1,\"code\":\"QS3035\",\"source\":\"c:\\\\snippet_.qs\",\"message\":\"Unexpected code fragment.\"},\"Hint\":null}",
      "text/html": [
       "<strong>Error QS3035</strong>: Unexpected code fragment.\n",
       "<pre><code> 13 |             // measure y and reset\n",
       " 14 |             mutable tmpResult = y<span style=\"font-weight: bold; text-decoration: underline; text-decoration-style: wavy; text-decoration-color: red\">, new Result = n2</span>;\n",
       " 15 |             for idx in 0 .. n2 - 1 {</code></pre>"
      ],
      "text/plain": [
       "Error QS3035: Unexpected code fragment.\n",
       " 13 |             // measure y and reset\n",
       " 14 |             mutable tmpResult = y, new Result = n2;\n",
       "    |                                  ^^^^^^^^^^^^^^^^^\n",
       " 15 |             for idx in 0 .. n2 - 1 {"
      ]
     },
     "metadata": {
      "application/x-qsharp-data": {},
      "text/html": {},
      "text/plain": {}
     },
     "output_type": "display_data"
    },
    {
     "data": {
      "application/x-qsharp-data": "{\"Source\":\"operation QuantumPeriodFinding (num : Int, a : Int) : Unit {\\n    // Get least integer n1 such as : num^2 <= 2^n1\\n    let n1 = BitSizeI(num) * 2;\\n    let n2 = BitSizeI(num);\\n    mutable periodCandidate = 1;\\n    repeat {\\n        use (x, y) = (Qubit[n1], Qubit[n2]) {\\n            Microsoft.Quantum.Canon.ApplyToEachCA(H, x);\\n\\n            // |x⟩ |0 (=y)⟩ -> |x⟩ |a^x mod N⟩\\n            QuantumExponentForPeriodFinding(a, num, x, y);\\n\\n            // measure y and reset\\n            mutable tmpResult = y, new Result = n2;\\n            for idx in 0 .. n2 - 1 {\\n                set tmpResult w/= idx <-MResetZ(y[idx]);\\n            }\\n\\n            // QFT for x\\n            QFTImpl(x);\\n\\n            // Measure x and reset\\n            mutable realResult = x, new Result = n1;\\n            for idx in 0 .. n1 - 1 {\\n                set realResult w/= idx <-MResetZ(x[idx]);\\n            }\\n            \\n            // get integer's result from measured array (ex : |011⟩ -> 3)\\n            let resultBool = [false] + Microsoft.Quantum.Convert.ResultArrayAsBoolArray(realResult); // for making unsigned positive integer, add first bit\\n            let resultBool_R = Microsoft.Quantum.Arrays.Reversed(resultBool); // because BoolArrayAsBigInt() is Little Endian order\\n            let resultIntL = Microsoft.Quantum.Convert.BoolArrayAsBigInt(resultBool_R);\\n\\n            // get period candidate by continued fraction expansion (thanks to Euclid !)\\n            let gcdL = GreatestCommonDivisorL(resultIntL, 2L^n1);\\n            let calculatedNumerator = resultIntL / gcdL;\\n            let calculatedDenominator = 2L^n1 / gcdL;\\n            let numL = Microsoft.Quantum.Convert.IntAsBigInt(num);\\n            let approximatedFraction =\\n                ContinuedFractionConvergentL(BigFraction(calculatedNumerator, calculatedDenominator), numL);\\n            let (approximatedNumerator, approximatedDenominator) = approximatedFraction!;\\n            mutable periodCandidateL = 0L;\\n            if(approximatedDenominator < 0L) {\\n                set periodCandidateL = approximatedDenominator * -1L;\\n            }\\n            else {\\n                set periodCandidateL = approximatedDenominator;             \\n            }\\n            set periodCandidate = ReduceBigIntToInt(periodCandidateL);\\n\\n            // output for debugging\\n            Message($\\\"Measured Fraction : {resultIntL} / {2L^n1}\\\");\\n            Message($\\\"Approximated Fraction : {approximatedNumerator} / {approximatedDenominator}\\\");\\n            Message($\\\"Period Candidate : {periodCandidate}\\\");\\n        }\\n    }\\n    until ((periodCandidate != 0) and (ExpModI(a, periodCandidate, num) == 1))\\n    fixup {\\n    }\\n\\n    // output for debugging\\n    Message(\\\"Found period \\\" + Microsoft.Quantum.Convert.IntAsString(periodCandidate));\\n    Message(\\\"\\\");\\n}\\n\\n// This is a helper function to convert BigInt to Int\\noperation ReduceBigIntToInt(numL : BigInt) : Int {\\n    // Check if numL is not large\\n    Microsoft.Quantum.Diagnostics.Fact(BitSizeL(numL) <= 32, $\\\"Cannot convert to Int. Input is too large\\\");\\n\\n    mutable resultInt = 0;\\n    let numArray = Microsoft.Quantum.Convert.BigIntAsBoolArray(numL);\\n    let numArray_R = Microsoft.Quantum.Arrays.Reversed(numArray); // because BigIntAsBoolArray() is Little Endian order\\n    let nSize = Length(numArray_R);\\n    for idx in 0 .. nSize - 1 {\\n        if(numArray_R[idx] and ((nSize - 1) - idx <= 31)) {\\n            set resultInt = resultInt + (2 ^ ((nSize - 1) - idx));\\n        }\\n    }\\n    return resultInt;\\n}\",\"Diagnostic\":{\"range\":{\"start\":{\"line\":22,\"character\":34},\"end\":{\"line\":22,\"character\":51}},\"severity\":1,\"code\":\"QS3035\",\"source\":\"c:\\\\snippet_.qs\",\"message\":\"Unexpected code fragment.\"},\"Hint\":null}",
      "text/html": [
       "<strong>Error QS3035</strong>: Unexpected code fragment.\n",
       "<pre><code> 22 |             // Measure x and reset\n",
       " 23 |             mutable realResult = x<span style=\"font-weight: bold; text-decoration: underline; text-decoration-style: wavy; text-decoration-color: red\">, new Result = n1</span>;\n",
       " 24 |             for idx in 0 .. n1 - 1 {</code></pre>"
      ],
      "text/plain": [
       "Error QS3035: Unexpected code fragment.\n",
       " 22 |             // Measure x and reset\n",
       " 23 |             mutable realResult = x, new Result = n1;\n",
       "    |                                   ^^^^^^^^^^^^^^^^^\n",
       " 24 |             for idx in 0 .. n1 - 1 {"
      ]
     },
     "metadata": {
      "application/x-qsharp-data": {},
      "text/html": {},
      "text/plain": {}
     },
     "output_type": "display_data"
    },
    {
     "data": {
      "application/x-qsharp-data": "{\"Source\":\"operation QuantumPeriodFinding (num : Int, a : Int) : Unit {\\n    // Get least integer n1 such as : num^2 <= 2^n1\\n    let n1 = BitSizeI(num) * 2;\\n    let n2 = BitSizeI(num);\\n    mutable periodCandidate = 1;\\n    repeat {\\n        use (x, y) = (Qubit[n1], Qubit[n2]) {\\n            Microsoft.Quantum.Canon.ApplyToEachCA(H, x);\\n\\n            // |x⟩ |0 (=y)⟩ -> |x⟩ |a^x mod N⟩\\n            QuantumExponentForPeriodFinding(a, num, x, y);\\n\\n            // measure y and reset\\n            mutable tmpResult = y, new Result = n2;\\n            for idx in 0 .. n2 - 1 {\\n                set tmpResult w/= idx <-MResetZ(y[idx]);\\n            }\\n\\n            // QFT for x\\n            QFTImpl(x);\\n\\n            // Measure x and reset\\n            mutable realResult = x, new Result = n1;\\n            for idx in 0 .. n1 - 1 {\\n                set realResult w/= idx <-MResetZ(x[idx]);\\n            }\\n            \\n            // get integer's result from measured array (ex : |011⟩ -> 3)\\n            let resultBool = [false] + Microsoft.Quantum.Convert.ResultArrayAsBoolArray(realResult); // for making unsigned positive integer, add first bit\\n            let resultBool_R = Microsoft.Quantum.Arrays.Reversed(resultBool); // because BoolArrayAsBigInt() is Little Endian order\\n            let resultIntL = Microsoft.Quantum.Convert.BoolArrayAsBigInt(resultBool_R);\\n\\n            // get period candidate by continued fraction expansion (thanks to Euclid !)\\n            let gcdL = GreatestCommonDivisorL(resultIntL, 2L^n1);\\n            let calculatedNumerator = resultIntL / gcdL;\\n            let calculatedDenominator = 2L^n1 / gcdL;\\n            let numL = Microsoft.Quantum.Convert.IntAsBigInt(num);\\n            let approximatedFraction =\\n                ContinuedFractionConvergentL(BigFraction(calculatedNumerator, calculatedDenominator), numL);\\n            let (approximatedNumerator, approximatedDenominator) = approximatedFraction!;\\n            mutable periodCandidateL = 0L;\\n            if(approximatedDenominator < 0L) {\\n                set periodCandidateL = approximatedDenominator * -1L;\\n            }\\n            else {\\n                set periodCandidateL = approximatedDenominator;             \\n            }\\n            set periodCandidate = ReduceBigIntToInt(periodCandidateL);\\n\\n            // output for debugging\\n            Message($\\\"Measured Fraction : {resultIntL} / {2L^n1}\\\");\\n            Message($\\\"Approximated Fraction : {approximatedNumerator} / {approximatedDenominator}\\\");\\n            Message($\\\"Period Candidate : {periodCandidate}\\\");\\n        }\\n    }\\n    until ((periodCandidate != 0) and (ExpModI(a, periodCandidate, num) == 1))\\n    fixup {\\n    }\\n\\n    // output for debugging\\n    Message(\\\"Found period \\\" + Microsoft.Quantum.Convert.IntAsString(periodCandidate));\\n    Message(\\\"\\\");\\n}\\n\\n// This is a helper function to convert BigInt to Int\\noperation ReduceBigIntToInt(numL : BigInt) : Int {\\n    // Check if numL is not large\\n    Microsoft.Quantum.Diagnostics.Fact(BitSizeL(numL) <= 32, $\\\"Cannot convert to Int. Input is too large\\\");\\n\\n    mutable resultInt = 0;\\n    let numArray = Microsoft.Quantum.Convert.BigIntAsBoolArray(numL);\\n    let numArray_R = Microsoft.Quantum.Arrays.Reversed(numArray); // because BigIntAsBoolArray() is Little Endian order\\n    let nSize = Length(numArray_R);\\n    for idx in 0 .. nSize - 1 {\\n        if(numArray_R[idx] and ((nSize - 1) - idx <= 31)) {\\n            set resultInt = resultInt + (2 ^ ((nSize - 1) - idx));\\n        }\\n    }\\n    return resultInt;\\n}\",\"Diagnostic\":{\"range\":{\"start\":{\"line\":15,\"character\":40},\"end\":{\"line\":15,\"character\":55}},\"severity\":1,\"code\":\"QS0001\",\"source\":\"c:\\\\snippet_.qs\",\"message\":\"Expected type Qubit, but actual type was Result.\"},\"Hint\":null}",
      "text/html": [
       "<strong>Error QS0001</strong>: Expected type Qubit, but actual type was Result.\n",
       "<pre><code> 15 |             for idx in 0 .. n2 - 1 {\n",
       " 16 |                 set tmpResult w/= idx &lt;-<span style=\"font-weight: bold; text-decoration: underline; text-decoration-style: wavy; text-decoration-color: red\">MResetZ(y[idx])</span>;\n",
       " 17 |             }</code></pre>"
      ],
      "text/plain": [
       "Error QS0001: Expected type Qubit, but actual type was Result.\n",
       " 15 |             for idx in 0 .. n2 - 1 {\n",
       " 16 |                 set tmpResult w/= idx <-MResetZ(y[idx]);\n",
       "    |                                         ^^^^^^^^^^^^^^^\n",
       " 17 |             }"
      ]
     },
     "metadata": {
      "application/x-qsharp-data": {},
      "text/html": {},
      "text/plain": {}
     },
     "output_type": "display_data"
    },
    {
     "data": {
      "application/x-qsharp-data": "{\"Source\":\"operation QuantumPeriodFinding (num : Int, a : Int) : Unit {\\n    // Get least integer n1 such as : num^2 <= 2^n1\\n    let n1 = BitSizeI(num) * 2;\\n    let n2 = BitSizeI(num);\\n    mutable periodCandidate = 1;\\n    repeat {\\n        use (x, y) = (Qubit[n1], Qubit[n2]) {\\n            Microsoft.Quantum.Canon.ApplyToEachCA(H, x);\\n\\n            // |x⟩ |0 (=y)⟩ -> |x⟩ |a^x mod N⟩\\n            QuantumExponentForPeriodFinding(a, num, x, y);\\n\\n            // measure y and reset\\n            mutable tmpResult = y, new Result = n2;\\n            for idx in 0 .. n2 - 1 {\\n                set tmpResult w/= idx <-MResetZ(y[idx]);\\n            }\\n\\n            // QFT for x\\n            QFTImpl(x);\\n\\n            // Measure x and reset\\n            mutable realResult = x, new Result = n1;\\n            for idx in 0 .. n1 - 1 {\\n                set realResult w/= idx <-MResetZ(x[idx]);\\n            }\\n            \\n            // get integer's result from measured array (ex : |011⟩ -> 3)\\n            let resultBool = [false] + Microsoft.Quantum.Convert.ResultArrayAsBoolArray(realResult); // for making unsigned positive integer, add first bit\\n            let resultBool_R = Microsoft.Quantum.Arrays.Reversed(resultBool); // because BoolArrayAsBigInt() is Little Endian order\\n            let resultIntL = Microsoft.Quantum.Convert.BoolArrayAsBigInt(resultBool_R);\\n\\n            // get period candidate by continued fraction expansion (thanks to Euclid !)\\n            let gcdL = GreatestCommonDivisorL(resultIntL, 2L^n1);\\n            let calculatedNumerator = resultIntL / gcdL;\\n            let calculatedDenominator = 2L^n1 / gcdL;\\n            let numL = Microsoft.Quantum.Convert.IntAsBigInt(num);\\n            let approximatedFraction =\\n                ContinuedFractionConvergentL(BigFraction(calculatedNumerator, calculatedDenominator), numL);\\n            let (approximatedNumerator, approximatedDenominator) = approximatedFraction!;\\n            mutable periodCandidateL = 0L;\\n            if(approximatedDenominator < 0L) {\\n                set periodCandidateL = approximatedDenominator * -1L;\\n            }\\n            else {\\n                set periodCandidateL = approximatedDenominator;             \\n            }\\n            set periodCandidate = ReduceBigIntToInt(periodCandidateL);\\n\\n            // output for debugging\\n            Message($\\\"Measured Fraction : {resultIntL} / {2L^n1}\\\");\\n            Message($\\\"Approximated Fraction : {approximatedNumerator} / {approximatedDenominator}\\\");\\n            Message($\\\"Period Candidate : {periodCandidate}\\\");\\n        }\\n    }\\n    until ((periodCandidate != 0) and (ExpModI(a, periodCandidate, num) == 1))\\n    fixup {\\n    }\\n\\n    // output for debugging\\n    Message(\\\"Found period \\\" + Microsoft.Quantum.Convert.IntAsString(periodCandidate));\\n    Message(\\\"\\\");\\n}\\n\\n// This is a helper function to convert BigInt to Int\\noperation ReduceBigIntToInt(numL : BigInt) : Int {\\n    // Check if numL is not large\\n    Microsoft.Quantum.Diagnostics.Fact(BitSizeL(numL) <= 32, $\\\"Cannot convert to Int. Input is too large\\\");\\n\\n    mutable resultInt = 0;\\n    let numArray = Microsoft.Quantum.Convert.BigIntAsBoolArray(numL);\\n    let numArray_R = Microsoft.Quantum.Arrays.Reversed(numArray); // because BigIntAsBoolArray() is Little Endian order\\n    let nSize = Length(numArray_R);\\n    for idx in 0 .. nSize - 1 {\\n        if(numArray_R[idx] and ((nSize - 1) - idx <= 31)) {\\n            set resultInt = resultInt + (2 ^ ((nSize - 1) - idx));\\n        }\\n    }\\n    return resultInt;\\n}\",\"Diagnostic\":{\"range\":{\"start\":{\"line\":24,\"character\":41},\"end\":{\"line\":24,\"character\":56}},\"severity\":1,\"code\":\"QS0001\",\"source\":\"c:\\\\snippet_.qs\",\"message\":\"Expected type Qubit, but actual type was Result.\"},\"Hint\":null}",
      "text/html": [
       "<strong>Error QS0001</strong>: Expected type Qubit, but actual type was Result.\n",
       "<pre><code> 24 |             for idx in 0 .. n1 - 1 {\n",
       " 25 |                 set realResult w/= idx &lt;-<span style=\"font-weight: bold; text-decoration: underline; text-decoration-style: wavy; text-decoration-color: red\">MResetZ(x[idx])</span>;\n",
       " 26 |             }</code></pre>"
      ],
      "text/plain": [
       "Error QS0001: Expected type Qubit, but actual type was Result.\n",
       " 24 |             for idx in 0 .. n1 - 1 {\n",
       " 25 |                 set realResult w/= idx <-MResetZ(x[idx]);\n",
       "    |                                          ^^^^^^^^^^^^^^^\n",
       " 26 |             }"
      ]
     },
     "metadata": {
      "application/x-qsharp-data": {},
      "text/html": {},
      "text/plain": {}
     },
     "output_type": "display_data"
    },
    {
     "data": {
      "application/x-qsharp-data": "{\"Source\":\"operation QuantumPeriodFinding (num : Int, a : Int) : Unit {\\n    // Get least integer n1 such as : num^2 <= 2^n1\\n    let n1 = BitSizeI(num) * 2;\\n    let n2 = BitSizeI(num);\\n    mutable periodCandidate = 1;\\n    repeat {\\n        use (x, y) = (Qubit[n1], Qubit[n2]) {\\n            Microsoft.Quantum.Canon.ApplyToEachCA(H, x);\\n\\n            // |x⟩ |0 (=y)⟩ -> |x⟩ |a^x mod N⟩\\n            QuantumExponentForPeriodFinding(a, num, x, y);\\n\\n            // measure y and reset\\n            mutable tmpResult = y, new Result = n2;\\n            for idx in 0 .. n2 - 1 {\\n                set tmpResult w/= idx <-MResetZ(y[idx]);\\n            }\\n\\n            // QFT for x\\n            QFTImpl(x);\\n\\n            // Measure x and reset\\n            mutable realResult = x, new Result = n1;\\n            for idx in 0 .. n1 - 1 {\\n                set realResult w/= idx <-MResetZ(x[idx]);\\n            }\\n            \\n            // get integer's result from measured array (ex : |011⟩ -> 3)\\n            let resultBool = [false] + Microsoft.Quantum.Convert.ResultArrayAsBoolArray(realResult); // for making unsigned positive integer, add first bit\\n            let resultBool_R = Microsoft.Quantum.Arrays.Reversed(resultBool); // because BoolArrayAsBigInt() is Little Endian order\\n            let resultIntL = Microsoft.Quantum.Convert.BoolArrayAsBigInt(resultBool_R);\\n\\n            // get period candidate by continued fraction expansion (thanks to Euclid !)\\n            let gcdL = GreatestCommonDivisorL(resultIntL, 2L^n1);\\n            let calculatedNumerator = resultIntL / gcdL;\\n            let calculatedDenominator = 2L^n1 / gcdL;\\n            let numL = Microsoft.Quantum.Convert.IntAsBigInt(num);\\n            let approximatedFraction =\\n                ContinuedFractionConvergentL(BigFraction(calculatedNumerator, calculatedDenominator), numL);\\n            let (approximatedNumerator, approximatedDenominator) = approximatedFraction!;\\n            mutable periodCandidateL = 0L;\\n            if(approximatedDenominator < 0L) {\\n                set periodCandidateL = approximatedDenominator * -1L;\\n            }\\n            else {\\n                set periodCandidateL = approximatedDenominator;             \\n            }\\n            set periodCandidate = ReduceBigIntToInt(periodCandidateL);\\n\\n            // output for debugging\\n            Message($\\\"Measured Fraction : {resultIntL} / {2L^n1}\\\");\\n            Message($\\\"Approximated Fraction : {approximatedNumerator} / {approximatedDenominator}\\\");\\n            Message($\\\"Period Candidate : {periodCandidate}\\\");\\n        }\\n    }\\n    until ((periodCandidate != 0) and (ExpModI(a, periodCandidate, num) == 1))\\n    fixup {\\n    }\\n\\n    // output for debugging\\n    Message(\\\"Found period \\\" + Microsoft.Quantum.Convert.IntAsString(periodCandidate));\\n    Message(\\\"\\\");\\n}\\n\\n// This is a helper function to convert BigInt to Int\\noperation ReduceBigIntToInt(numL : BigInt) : Int {\\n    // Check if numL is not large\\n    Microsoft.Quantum.Diagnostics.Fact(BitSizeL(numL) <= 32, $\\\"Cannot convert to Int. Input is too large\\\");\\n\\n    mutable resultInt = 0;\\n    let numArray = Microsoft.Quantum.Convert.BigIntAsBoolArray(numL);\\n    let numArray_R = Microsoft.Quantum.Arrays.Reversed(numArray); // because BigIntAsBoolArray() is Little Endian order\\n    let nSize = Length(numArray_R);\\n    for idx in 0 .. nSize - 1 {\\n        if(numArray_R[idx] and ((nSize - 1) - idx <= 31)) {\\n            set resultInt = resultInt + (2 ^ ((nSize - 1) - idx));\\n        }\\n    }\\n    return resultInt;\\n}\",\"Diagnostic\":{\"range\":{\"start\":{\"line\":28,\"character\":26},\"end\":{\"line\":28,\"character\":35}},\"severity\":1,\"code\":\"QS0001\",\"source\":\"c:\\\\snippet_.qs\",\"message\":\"Couldn't match type Qubit with type Result.\\r\\nExpected: Result[]\\r\\n  Actual: Qubit[]\"},\"Hint\":null}",
      "text/html": [
       "<strong>Error QS0001</strong>: Couldn't match type Qubit with type Result.\r\n",
       "Expected: Result[]\r\n",
       "  Actual: Qubit[]\n",
       "<pre><code> 28 |             // get integer&#39;s result from measured array (ex : |011⟩ -&gt; 3)\n",
       " 29 |             let resultBool<span style=\"font-weight: bold; text-decoration: underline; text-decoration-style: wavy; text-decoration-color: red\"> = [false</span>] + Microsoft.Quantum.Convert.ResultArrayAsBoolArray(realResult); // for making unsigned positive integer, add first bit\n",
       " 30 |             let resultBool_R = Microsoft.Quantum.Arrays.Reversed(resultBool); // because BoolArrayAsBigInt() is Little Endian order</code></pre>"
      ],
      "text/plain": [
       "Error QS0001: Couldn't match type Qubit with type Result.\r\n",
       "Expected: Result[]\r\n",
       "  Actual: Qubit[]\n",
       " 28 |             // get integer's result from measured array (ex : |011⟩ -> 3)\n",
       " 29 |             let resultBool = [false] + Microsoft.Quantum.Convert.ResultArrayAsBoolArray(realResult); // for making unsigned positive integer, add first bit\n",
       "    |                           ^^^^^^^^^\n",
       " 30 |             let resultBool_R = Microsoft.Quantum.Arrays.Reversed(resultBool); // because BoolArrayAsBigInt() is Little Endian order"
      ]
     },
     "metadata": {
      "application/x-qsharp-data": {},
      "text/html": {},
      "text/plain": {}
     },
     "output_type": "display_data"
    }
   ],
   "source": [
    "operation QuantumPeriodFinding (num : Int, a : Int) : Unit {\n",
    "    // Get least integer n1 such as : num^2 <= 2^n1\n",
    "    let n1 = BitSizeI(num) * 2;\n",
    "    let n2 = BitSizeI(num);\n",
    "    mutable periodCandidate = 1;\n",
    "    repeat {\n",
    "        use (x, y) = (Qubit[n1], Qubit[n2]) {\n",
    "            Microsoft.Quantum.Canon.ApplyToEachCA(H, x);\n",
    "\n",
    "            // |x⟩ |0 (=y)⟩ -> |x⟩ |a^x mod N⟩\n",
    "            QuantumExponentForPeriodFinding(a, num, x, y);\n",
    "\n",
    "            // measure y and reset\n",
    "            mutable tmpResult = y, new Result = n2;\n",
    "            for idx in 0 .. n2 - 1 {\n",
    "                set tmpResult w/= idx <-MResetZ(y[idx]);\n",
    "            }\n",
    "\n",
    "            // QFT for x\n",
    "            QFTImpl(x);\n",
    "\n",
    "            // Measure x and reset\n",
    "            mutable realResult = x, new Result = n1;\n",
    "            for idx in 0 .. n1 - 1 {\n",
    "                set realResult w/= idx <-MResetZ(x[idx]);\n",
    "            }\n",
    "            \n",
    "            // get integer's result from measured array (ex : |011⟩ -> 3)\n",
    "            let resultBool = [false] + Microsoft.Quantum.Convert.ResultArrayAsBoolArray(realResult); // for making unsigned positive integer, add first bit\n",
    "            let resultBool_R = Microsoft.Quantum.Arrays.Reversed(resultBool); // because BoolArrayAsBigInt() is Little Endian order\n",
    "            let resultIntL = Microsoft.Quantum.Convert.BoolArrayAsBigInt(resultBool_R);\n",
    "\n",
    "            // get period candidate by continued fraction expansion (thanks to Euclid !)\n",
    "            let gcdL = GreatestCommonDivisorL(resultIntL, 2L^n1);\n",
    "            let calculatedNumerator = resultIntL / gcdL;\n",
    "            let calculatedDenominator = 2L^n1 / gcdL;\n",
    "            let numL = Microsoft.Quantum.Convert.IntAsBigInt(num);\n",
    "            let approximatedFraction =\n",
    "                ContinuedFractionConvergentL(BigFraction(calculatedNumerator, calculatedDenominator), numL);\n",
    "            let (approximatedNumerator, approximatedDenominator) = approximatedFraction!;\n",
    "            mutable periodCandidateL = 0L;\n",
    "            if(approximatedDenominator < 0L) {\n",
    "                set periodCandidateL = approximatedDenominator * -1L;\n",
    "            }\n",
    "            else {\n",
    "                set periodCandidateL = approximatedDenominator;             \n",
    "            }\n",
    "            set periodCandidate = ReduceBigIntToInt(periodCandidateL);\n",
    "\n",
    "            // output for debugging\n",
    "            Message($\"Measured Fraction : {resultIntL} / {2L^n1}\");\n",
    "            Message($\"Approximated Fraction : {approximatedNumerator} / {approximatedDenominator}\");\n",
    "            Message($\"Period Candidate : {periodCandidate}\");\n",
    "        }\n",
    "    }\n",
    "    until ((periodCandidate != 0) and (ExpModI(a, periodCandidate, num) == 1))\n",
    "    fixup {\n",
    "    }\n",
    "\n",
    "    // output for debugging\n",
    "    Message(\"Found period \" + Microsoft.Quantum.Convert.IntAsString(periodCandidate));\n",
    "    Message(\"\");\n",
    "}\n",
    "\n",
    "// This is a helper function to convert BigInt to Int\n",
    "operation ReduceBigIntToInt(numL : BigInt) : Int {\n",
    "    // Check if numL is not large\n",
    "    Microsoft.Quantum.Diagnostics.Fact(BitSizeL(numL) <= 32, $\"Cannot convert to Int. Input is too large\");\n",
    "\n",
    "    mutable resultInt = 0;\n",
    "    let numArray = Microsoft.Quantum.Convert.BigIntAsBoolArray(numL);\n",
    "    let numArray_R = Microsoft.Quantum.Arrays.Reversed(numArray); // because BigIntAsBoolArray() is Little Endian order\n",
    "    let nSize = Length(numArray_R);\n",
    "    for idx in 0 .. nSize - 1 {\n",
    "        if(numArray_R[idx] and ((nSize - 1) - idx <= 31)) {\n",
    "            set resultInt = resultInt + (2 ^ ((nSize - 1) - idx));\n",
    "        }\n",
    "    }\n",
    "    return resultInt;\n",
    "}"
   ]
  },
  {
   "attachments": {},
   "cell_type": "markdown",
   "id": "332812ed",
   "metadata": {},
   "source": [
    "Run and check with Python code."
   ]
  },
  {
   "cell_type": "code",
   "execution_count": 6,
   "id": "a042c7d4",
   "metadata": {},
   "outputs": [
    {
     "data": {
      "application/x-qsharp-data": "{\"Source\":\"operation QuantumPeriodFinding (num : Int, a : Int) : Unit {\\n    // Get least integer n1 such as : num^2 <= 2^n1\\n    let n1 = BitSizeI(num) * 2;\\n    let n2 = BitSizeI(num);\\n    mutable periodCandidate = 1;\\n    repeat {\\n        use (x, y) = (Qubit[n1], Qubit[n2]) {\\n            Microsoft.Quantum.Canon.ApplyToEachCA(H, x);\\n\\n            // |x⟩ |0 (=y)⟩ -> |x⟩ |a^x mod N⟩\\n            QuantumExponentForPeriodFinding(a, num, x, y);\\n\\n            // measure y and reset\\n            mutable tmpResult = new Result[n2];\\n            for idx in 0 .. n2 - 1 {\\n                set tmpResult w/= idx <-MResetZ(y[idx]);\\n            }\\n\\n            // QFT for x\\n            QFTImpl(x);\\n\\n            // Measure x and reset\\n            mutable realResult = new Result[n1];\\n            for idx in 0 .. n1 - 1 {\\n                set realResult w/= idx <-MResetZ(x[idx]);\\n            }\\n            \\n            // get integer's result from measured array (ex : |011⟩ -> 3)\\n            let resultBool = [false] + Microsoft.Quantum.Convert.ResultArrayAsBoolArray(realResult); // for making unsigned positive integer, add first bit\\n            let resultBool_R = Microsoft.Quantum.Arrays.Reversed(resultBool); // because BoolArrayAsBigInt() is Little Endian order\\n            let resultIntL = Microsoft.Quantum.Convert.BoolArrayAsBigInt(resultBool_R);\\n\\n            // get period candidate by continued fraction expansion (thanks to Euclid !)\\n            let gcdL = GreatestCommonDivisorL(resultIntL, 2L^n1);\\n            let calculatedNumerator = resultIntL / gcdL;\\n            let calculatedDenominator = 2L^n1 / gcdL;\\n            let numL = Microsoft.Quantum.Convert.IntAsBigInt(num);\\n            let approximatedFraction =\\n                ContinuedFractionConvergentL(BigFraction(calculatedNumerator, calculatedDenominator), numL);\\n            let (approximatedNumerator, approximatedDenominator) = approximatedFraction!;\\n            mutable periodCandidateL = 0L;\\n            if(approximatedDenominator < 0L) {\\n                set periodCandidateL = approximatedDenominator * -1L;\\n            }\\n            else {\\n                set periodCandidateL = approximatedDenominator;             \\n            }\\n            set periodCandidate = ReduceBigIntToInt(periodCandidateL);\\n\\n            // output for debugging\\n            Message($\\\"Measured Fraction : {resultIntL} / {2L^n1}\\\");\\n            Message($\\\"Approximated Fraction : {approximatedNumerator} / {approximatedDenominator}\\\");\\n            Message($\\\"Period Candidate : {periodCandidate}\\\");\\n        }\\n    }\\n    until ((periodCandidate != 0) and (ExpModI(a, periodCandidate, num) == 1))\\n    fixup {\\n    }\\n\\n    // output for debugging\\n    Message(\\\"Found period \\\" + Microsoft.Quantum.Convert.IntAsString(periodCandidate));\\n    Message(\\\"\\\");\\n}\\n\\n// This is a helper function to convert BigInt to Int\\noperation ReduceBigIntToInt(numL : BigInt) : Int {\\n    // Check if numL is not large\\n    Microsoft.Quantum.Diagnostics.Fact(BitSizeL(numL) <= 32, $\\\"Cannot convert to Int. Input is too large\\\");\\n\\n    mutable resultInt = 0;\\n    let numArray = Microsoft.Quantum.Convert.BigIntAsBoolArray(numL);\\n    let numArray_R = Microsoft.Quantum.Arrays.Reversed(numArray); // because BigIntAsBoolArray() is Little Endian order\\n    let nSize = Length(numArray_R);\\n    for idx in 0 .. nSize - 1 {\\n        if(numArray_R[idx] and ((nSize - 1) - idx <= 31)) {\\n            set resultInt = resultInt + (2 ^ ((nSize - 1) - idx));\\n        }\\n    }\\n    return resultInt;\\n}\",\"Diagnostic\":{\"range\":{\"start\":{\"line\":13,\"character\":32},\"end\":{\"line\":13,\"character\":46}},\"severity\":2,\"code\":\"QS3308\",\"source\":\"c:\\\\snippet_190c1e25-67b5-402a-8055-ac964a3ee155.qs\",\"message\":\"Deprecated syntax. Use [] to construct an empty array, or [x, size = n] to construct an array of x repeated n times.\"},\"Hint\":null}",
      "text/html": [
       "<strong>Warning QS3308</strong>: Deprecated syntax. Use [] to construct an empty array, or [x, size = n] to construct an array of x repeated n times.\n",
       "<pre><code> 13 |             // measure y and reset\n",
       " 14 |             mutable tmpResult = <span style=\"font-weight: bold; text-decoration: underline; text-decoration-style: wavy; text-decoration-color: orange\">new Result[n2]</span>;\n",
       " 15 |             for idx in 0 .. n2 - 1 {</code></pre>\n",
       "<br><small>For more information, see the <a href=\"https://learn.microsoft.com/azure/quantum/qs-compiler-messages/qs3308\">Azure Quantum documentation for QS3308</a></small>."
      ],
      "text/plain": [
       "Warning QS3308: Deprecated syntax. Use [] to construct an empty array, or [x, size = n] to construct an array of x repeated n times.\n",
       " 13 |             // measure y and reset\n",
       " 14 |             mutable tmpResult = new Result[n2];\n",
       "    |                                 ^^^^^^^^^^^^^^\n",
       " 15 |             for idx in 0 .. n2 - 1 {\n",
       "For more information, see {uri}."
      ]
     },
     "metadata": {
      "application/x-qsharp-data": {},
      "text/html": {},
      "text/plain": {}
     },
     "output_type": "display_data"
    },
    {
     "data": {
      "application/x-qsharp-data": "{\"Source\":\"operation QuantumPeriodFinding (num : Int, a : Int) : Unit {\\n    // Get least integer n1 such as : num^2 <= 2^n1\\n    let n1 = BitSizeI(num) * 2;\\n    let n2 = BitSizeI(num);\\n    mutable periodCandidate = 1;\\n    repeat {\\n        use (x, y) = (Qubit[n1], Qubit[n2]) {\\n            Microsoft.Quantum.Canon.ApplyToEachCA(H, x);\\n\\n            // |x⟩ |0 (=y)⟩ -> |x⟩ |a^x mod N⟩\\n            QuantumExponentForPeriodFinding(a, num, x, y);\\n\\n            // measure y and reset\\n            mutable tmpResult = new Result[n2];\\n            for idx in 0 .. n2 - 1 {\\n                set tmpResult w/= idx <-MResetZ(y[idx]);\\n            }\\n\\n            // QFT for x\\n            QFTImpl(x);\\n\\n            // Measure x and reset\\n            mutable realResult = new Result[n1];\\n            for idx in 0 .. n1 - 1 {\\n                set realResult w/= idx <-MResetZ(x[idx]);\\n            }\\n            \\n            // get integer's result from measured array (ex : |011⟩ -> 3)\\n            let resultBool = [false] + Microsoft.Quantum.Convert.ResultArrayAsBoolArray(realResult); // for making unsigned positive integer, add first bit\\n            let resultBool_R = Microsoft.Quantum.Arrays.Reversed(resultBool); // because BoolArrayAsBigInt() is Little Endian order\\n            let resultIntL = Microsoft.Quantum.Convert.BoolArrayAsBigInt(resultBool_R);\\n\\n            // get period candidate by continued fraction expansion (thanks to Euclid !)\\n            let gcdL = GreatestCommonDivisorL(resultIntL, 2L^n1);\\n            let calculatedNumerator = resultIntL / gcdL;\\n            let calculatedDenominator = 2L^n1 / gcdL;\\n            let numL = Microsoft.Quantum.Convert.IntAsBigInt(num);\\n            let approximatedFraction =\\n                ContinuedFractionConvergentL(BigFraction(calculatedNumerator, calculatedDenominator), numL);\\n            let (approximatedNumerator, approximatedDenominator) = approximatedFraction!;\\n            mutable periodCandidateL = 0L;\\n            if(approximatedDenominator < 0L) {\\n                set periodCandidateL = approximatedDenominator * -1L;\\n            }\\n            else {\\n                set periodCandidateL = approximatedDenominator;             \\n            }\\n            set periodCandidate = ReduceBigIntToInt(periodCandidateL);\\n\\n            // output for debugging\\n            Message($\\\"Measured Fraction : {resultIntL} / {2L^n1}\\\");\\n            Message($\\\"Approximated Fraction : {approximatedNumerator} / {approximatedDenominator}\\\");\\n            Message($\\\"Period Candidate : {periodCandidate}\\\");\\n        }\\n    }\\n    until ((periodCandidate != 0) and (ExpModI(a, periodCandidate, num) == 1))\\n    fixup {\\n    }\\n\\n    // output for debugging\\n    Message(\\\"Found period \\\" + Microsoft.Quantum.Convert.IntAsString(periodCandidate));\\n    Message(\\\"\\\");\\n}\\n\\n// This is a helper function to convert BigInt to Int\\noperation ReduceBigIntToInt(numL : BigInt) : Int {\\n    // Check if numL is not large\\n    Microsoft.Quantum.Diagnostics.Fact(BitSizeL(numL) <= 32, $\\\"Cannot convert to Int. Input is too large\\\");\\n\\n    mutable resultInt = 0;\\n    let numArray = Microsoft.Quantum.Convert.BigIntAsBoolArray(numL);\\n    let numArray_R = Microsoft.Quantum.Arrays.Reversed(numArray); // because BigIntAsBoolArray() is Little Endian order\\n    let nSize = Length(numArray_R);\\n    for idx in 0 .. nSize - 1 {\\n        if(numArray_R[idx] and ((nSize - 1) - idx <= 31)) {\\n            set resultInt = resultInt + (2 ^ ((nSize - 1) - idx));\\n        }\\n    }\\n    return resultInt;\\n}\",\"Diagnostic\":{\"range\":{\"start\":{\"line\":22,\"character\":33},\"end\":{\"line\":22,\"character\":47}},\"severity\":2,\"code\":\"QS3308\",\"source\":\"c:\\\\snippet_190c1e25-67b5-402a-8055-ac964a3ee155.qs\",\"message\":\"Deprecated syntax. Use [] to construct an empty array, or [x, size = n] to construct an array of x repeated n times.\"},\"Hint\":null}",
      "text/html": [
       "<strong>Warning QS3308</strong>: Deprecated syntax. Use [] to construct an empty array, or [x, size = n] to construct an array of x repeated n times.\n",
       "<pre><code> 22 |             // Measure x and reset\n",
       " 23 |             mutable realResult = <span style=\"font-weight: bold; text-decoration: underline; text-decoration-style: wavy; text-decoration-color: orange\">new Result[n1]</span>;\n",
       " 24 |             for idx in 0 .. n1 - 1 {</code></pre>\n",
       "<br><small>For more information, see the <a href=\"https://learn.microsoft.com/azure/quantum/qs-compiler-messages/qs3308\">Azure Quantum documentation for QS3308</a></small>."
      ],
      "text/plain": [
       "Warning QS3308: Deprecated syntax. Use [] to construct an empty array, or [x, size = n] to construct an array of x repeated n times.\n",
       " 22 |             // Measure x and reset\n",
       " 23 |             mutable realResult = new Result[n1];\n",
       "    |                                  ^^^^^^^^^^^^^^\n",
       " 24 |             for idx in 0 .. n1 - 1 {\n",
       "For more information, see {uri}."
      ]
     },
     "metadata": {
      "application/x-qsharp-data": {},
      "text/html": {},
      "text/plain": {}
     },
     "output_type": "display_data"
    },
    {
     "data": {
      "application/x-qsharp-data": "{\"Source\":\"N = 11\\na = 5\\nres = QuantumPeriodFinding.simulate(num=N, a=a)\\n\\nN = 15\\na = 7\\nres = QuantumPeriodFinding.simulate(num=N, a=a)\",\"Diagnostic\":{\"range\":{\"start\":{\"line\":0,\"character\":2},\"end\":{\"line\":6,\"character\":47}},\"severity\":1,\"code\":\"QS3035\",\"source\":\"c:\\\\snippet_.qs\",\"message\":\"Unexpected code fragment.\"},\"Hint\":null}",
      "text/html": [
       "<strong>Error QS3035</strong>: Unexpected code fragment.\n",
       "<pre><code> 1 | N = 11\n",
       " 2 | a = 5</code></pre>"
      ],
      "text/plain": [
       "Error QS3035: Unexpected code fragment.\n",
       " 1 | N = 11\n",
       " 2 | a = 5"
      ]
     },
     "metadata": {
      "application/x-qsharp-data": {},
      "text/html": {},
      "text/plain": {}
     },
     "output_type": "display_data"
    },
    {
     "data": {
      "application/x-qsharp-data": "{\"Source\":\"N = 11\\na = 5\\nres = QuantumPeriodFinding.simulate(num=N, a=a)\\n\\nN = 15\\na = 7\\nres = QuantumPeriodFinding.simulate(num=N, a=a)\",\"Diagnostic\":{\"range\":{\"start\":{\"line\":0,\"character\":0},\"end\":{\"line\":0,\"character\":1}},\"severity\":1,\"code\":\"QS3036\",\"source\":\"c:\\\\snippet_.qs\",\"message\":\"An expression used as a statement must be a call expression.\"},\"Hint\":null}",
      "text/html": [
       "<strong>Error QS3036</strong>: An expression used as a statement must be a call expression.\n",
       "<pre><code> 1 | <span style=\"font-weight: bold; text-decoration: underline; text-decoration-style: wavy; text-decoration-color: red\">N</span> = 11\n",
       " 2 | a = 5</code></pre>"
      ],
      "text/plain": [
       "Error QS3036: An expression used as a statement must be a call expression.\n",
       " 1 | N = 11\n",
       "   | ^\n",
       " 2 | a = 5"
      ]
     },
     "metadata": {
      "application/x-qsharp-data": {},
      "text/html": {},
      "text/plain": {}
     },
     "output_type": "display_data"
    }
   ],
   "source": [
    "N = 11\n",
    "a = 5\n",
    "res = QuantumPeriodFinding.simulate(num=N, a=a)\n",
    "\n",
    "N = 15\n",
    "a = 7\n",
    "res = QuantumPeriodFinding.simulate(num=N, a=a)"
   ]
  },
  {
   "cell_type": "code",
   "execution_count": null,
   "id": "be177ca0",
   "metadata": {},
   "outputs": [],
   "source": []
  }
 ],
 "metadata": {
  "kernelspec": {
   "display_name": "Q#",
   "language": "qsharp",
   "name": "iqsharp"
  },
  "language_info": {
   "file_extension": ".qs",
   "mimetype": "text/x-qsharp",
   "name": "qsharp",
   "version": "0.27"
  }
 },
 "nbformat": 4,
 "nbformat_minor": 5
}

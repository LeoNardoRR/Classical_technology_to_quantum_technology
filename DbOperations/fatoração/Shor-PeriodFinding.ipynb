{
  "cells": [
    {
      "cell_type": "code",
      "execution_count": null,
      "metadata": {
        "jupyter": {
          "outputs_hidden": false,
          "source_hidden": false
        },
        "nteract": {
          "transient": {
            "deleting": false
          }
        }
      },
      "outputs": [
        {
          "data": {
            "application/x-qsharp-data": "\"\"",
            "text/plain": []
          },
          "metadata": {
            "application/x-qsharp-data": {},
            "text/plain": {}
          },
          "output_type": "display_data"
        },
        {
          "name": "stdout",
          "output_type": "stream",
          "text": [
            "Authenticated using Microsoft.Azure.Quantum.Authentication.TokenFileCredential\n",
            "\n",
            "\n",
            "Connected to Azure Quantum workspace classicalcomputing in location eastus.\n"
          ]
        },
        {
          "data": {
            "application/x-qsharp-data": "[{\"id\":\"microsoft.estimator\",\"current_availability\":{},\"average_queue_time\":0}]",
            "text/html": [
              "<table><thead><tr><th style=\"text-align: start;\">Target ID</th><th style=\"text-align: start;\">Current Availability</th><th style=\"text-align: start;\">Average Queue Time (Seconds)</th></tr></thead><tbody><tr><td style=\"text-align: start;\">microsoft.estimator</td><td style=\"text-align: start;\">Available</td><td style=\"text-align: start;\">0</td></tr></tbody></table>"
            ],
            "text/plain": [
              "Target ID           Current Availability Average Queue Time (Seconds)\n",
              "------------------- --------- -\n",
              "microsoft.estimator Available 0\n"
            ]
          },
          "execution_count": 1,
          "metadata": {
            "application/x-qsharp-data": {},
            "text/html": {},
            "text/plain": {}
          },
          "output_type": "execute_result"
        }
      ],
      "source": [
        "%azure.connect \"/subscriptions/2f8b131d-6276-4fe0-be2d-4646cd04042a/resourceGroups/classicalcomputing/providers/Microsoft.Quantum/Workspaces/classicalcomputing\" location=\"eastus\"\n"
      ]
    },
    {
      "cell_type": "code",
      "execution_count": null,
      "metadata": {
        "jupyter": {
          "outputs_hidden": false,
          "source_hidden": false
        },
        "nteract": {
          "transient": {
            "deleting": false
          }
        }
      },
      "outputs": [],
      "source": [
        "import qsharp"
      ]
    },
    {
      "cell_type": "code",
      "execution_count": 3,
      "metadata": {
        "jupyter": {
          "outputs_hidden": false,
          "source_hidden": false
        },
        "microsoft": {
          "language": "qsharp"
        },
        "nteract": {
          "transient": {
            "deleting": false
          }
        }
      },
      "outputs": [],
      "source": [
        "%%qsharp\n",
        "\n",
        "open Microsoft.Quantum.Intrinsic;\n",
        "open Microsoft.Quantum.Math;\n",
        "open Microsoft.Quantum.Measurement;\n",
        "\n",
        "operation QFTImpl (qs : Qubit[]) : Unit is Adj + Ctl\n",
        "{\n",
        "    body (...)\n",
        "    {\n",
        "        let nQubits = Length(qs);\n",
        "\n",
        "        for i in 0 .. nQubits - 1\n",
        "        {\n",
        "            H(qs[i]);\n",
        "            for j in i + 1 .. nQubits - 1\n",
        "            {\n",
        "                Controlled R1Frac([qs[j]], (1, j - i, qs[i]));\n",
        "            }\n",
        "        }\n",
        "\n",
        "        Microsoft.Quantum.Canon.SwapReverseRegister(qs);\n",
        "    }\n",
        "}"
      ]
    },
    {
      "cell_type": "code",
      "execution_count": 4,
      "metadata": {
        "jupyter": {
          "outputs_hidden": false,
          "source_hidden": false
        },
        "microsoft": {
          "language": "qsharp"
        },
        "nteract": {
          "transient": {
            "deleting": false
          }
        }
      },
      "outputs": [],
      "source": [
        "%%qsharp\n",
        "\n",
        "operation QuantumAdd (x : Qubit[], y : Qubit[]) : Unit is Adj + Ctl {\n",
        "    let n = Length(x);\n",
        "    QFTImpl(y);\n",
        "    for i in 0 .. n - 1 {\n",
        "        for j in 0 .. (n - 1) - i {\n",
        "            Controlled R1Frac([x[i + j]], (2, j + 1, (y)[(n - 1) - i]));\n",
        "        }\n",
        "    }\n",
        "    Adjoint QFTImpl(y);\n",
        "}\n",
        "\n",
        "operation QuantumAddByNumber (x : Qubit[], b : Int) : Unit is Adj + Ctl {\n",
        "    let n = Length(x);\n",
        "\n",
        "    // apply Draper adder for numeric\n",
        "    QFTImpl(x);\n",
        "    for i in 0 .. n - 1 {\n",
        "        for j in 0 .. (n - 1) - i {\n",
        "            if(not((b / 2^((n - 1) - (i + j))) % 2 == 0)) {\n",
        "                R1Frac(2, j + 1, (x)[(n - 1) - i]);\n",
        "            }\n",
        "        }\n",
        "    }\n",
        "    Adjoint QFTImpl(x);\n",
        "}\n",
        "\n",
        "operation QuantumAddByModulus (N : Int, x : Qubit[], y : Qubit[]) : Unit is Adj + Ctl {\n",
        "    use (ancilla, cx, cy) = (Qubit(), Qubit(), Qubit()) {\n",
        "        // add bit for preventing overflow\n",
        "        let x_large = [cx] + x;\n",
        "        let y_large = [cy] + y;\n",
        "        // |x⟩ |y⟩ -> |x⟩ |x + y⟩\n",
        "        QuantumAdd(x_large, y_large);\n",
        "        // |y⟩ -> |y - N⟩\n",
        "        Adjoint QuantumAddByNumber(y_large, N);\n",
        "        // Turn on ancilla when first bit is |1⟩ (i.e, when x + y - N < 0)\n",
        "        Controlled X([y_large[0]], ancilla);\n",
        "        // Add N back when ancilla is |1⟩\n",
        "        Controlled QuantumAddByNumber([ancilla], (y_large, N));\n",
        "        // set ancilla to |0⟩\n",
        "        Adjoint QuantumAdd(x_large, y_large);\n",
        "        X(ancilla);\n",
        "        Controlled X([y_large[0]], ancilla);\n",
        "        QuantumAdd(x_large, y_large);\n",
        "    }\n",
        "}\n",
        "\n",
        "operation QuantumMultiplyByModulus (N : Int, a : Int, y : Qubit[]) : Unit is Adj + Ctl {\n",
        "    let n = Length(y);\n",
        "    let a_mod = a % N;\n",
        "\n",
        "    use s = Qubit[n] {\n",
        "        // start |y⟩ |0⟩\n",
        "\n",
        "        // apply adder by repeating \"a\" (integer) times\n",
        "        for r in 0 .. a_mod - 1 {\n",
        "            QuantumAddByModulus(N, y, s);\n",
        "        }\n",
        "        // now |y⟩ |a y mod N⟩\n",
        "\n",
        "        // swap first register and second one by tuple\n",
        "        Microsoft.Quantum.Canon.ApplyToEachCA(SWAP, Microsoft.Quantum.Arrays.Zipped(y, s));\n",
        "        // now |a y mod N⟩ |y⟩\n",
        "\n",
        "        // reset all s qubits !\n",
        "        // but it's tricky because we cannot use \"Reset()\" since here is controlled operator.\n",
        "        let a_inv = InverseModI(a_mod, N);\n",
        "        for r in 0 .. a_inv - 1 {\n",
        "            Adjoint QuantumAddByModulus(N, y, s);\n",
        "        }\n",
        "    }\n",
        "}"
      ]
    },
    {
      "cell_type": "code",
      "execution_count": 5,
      "metadata": {
        "jupyter": {
          "outputs_hidden": false,
          "source_hidden": false
        },
        "microsoft": {
          "language": "qsharp"
        },
        "nteract": {
          "transient": {
            "deleting": false
          }
        }
      },
      "outputs": [],
      "source": [
        "%%qsharp\n",
        "\n",
        "operation QuantumExponentForPeriodFinding (a : Int, N : Int, x : Qubit[], y : Qubit[]) : Unit {\n",
        "    let n1 = Length(x);\n",
        "    let n2 = Length(y);\n",
        "\n",
        "    // set |y⟩ = |0...01⟩\n",
        "    X(y[n2 - 1]);\n",
        "\n",
        "    for idx in 0 .. n1 - 1 {\n",
        "        // a^(2^((n1-1) - idx)) is too big, then we reduce beforehand\n",
        "        mutable a_mod = 1;\n",
        "        for power in 1 .. 2^((n1-1) - idx) {\n",
        "            set a_mod = (a_mod * a) % N;\n",
        "        }\n",
        "        // apply decomposition elements\n",
        "        Controlled QuantumMultiplyByModulus([x[idx]], (N, a_mod, y));\n",
        "    }\n",
        "}"
      ]
    },
    {
      "cell_type": "code",
      "execution_count": 13,
      "metadata": {
        "jupyter": {
          "outputs_hidden": false,
          "source_hidden": false
        },
        "microsoft": {
          "language": "qsharp"
        },
        "nteract": {
          "transient": {
            "deleting": false
          }
        }
      },
      "outputs": [
        {
          "name": "stdout",
          "output_type": "stream",
          "text": [
            "/snippet_.qs(15,33): warning QS3308: Deprecated syntax. Use [] to construct an empty array, or [x, size = n] to construct an array of x repeated n times.\n",
            "/snippet_.qs(24,34): warning QS3308: Deprecated syntax. Use [] to construct an empty array, or [x, size = n] to construct an array of x repeated n times.\n"
          ]
        }
      ],
      "source": [
        "%%qsharp\n",
        "\n",
        "operation QuantumPeriodFinding(num : Int, a : Int) : Unit {\n",
        "    // Get least integer n1 such as : num^2 <= 2^n1\n",
        "    let n1 = BitSizeI(num) * 2;\n",
        "    let n2 = BitSizeI(num);\n",
        "    mutable periodCandidate = 1;\n",
        "    repeat {\n",
        "        use (x, y) = (Qubit[n1], Qubit[n2]) {\n",
        "            Microsoft.Quantum.Canon.ApplyToEachCA(H, x);\n",
        "\n",
        "            // |x⟩ |0 (=y)⟩ -> |x⟩ |a^x mod N⟩\n",
        "            QuantumExponentForPeriodFinding(a, num, x, y);\n",
        "\n",
        "            // measure y and reset\n",
        "            mutable tmpResult = new Result[n2];\n",
        "            for idx in 0 .. n2 - 1 {\n",
        "                set tmpResult w/= idx <-MResetZ(y[idx]);\n",
        "            }\n",
        "\n",
        "            // QFT for x\n",
        "            QFTImpl(x);\n",
        "\n",
        "            // Measure x and reset\n",
        "            mutable realResult = new Result[n1];\n",
        "            for idx in 0 .. n1 - 1 {\n",
        "                set realResult w/= idx <-MResetZ(x[idx]);\n",
        "            }\n",
        "            \n",
        "            // get integer's result from measured array (ex : |011⟩ -> 3)\n",
        "            let resultBool = [false] + Microsoft.Quantum.Convert.ResultArrayAsBoolArray(realResult); // for making unsigned positive integer, add first bit\n",
        "            let resultBool_R = Microsoft.Quantum.Arrays.Reversed(resultBool); // because BoolArrayAsBigInt() is Little Endian order\n",
        "            let resultIntL = Microsoft.Quantum.Convert.BoolArrayAsBigInt(resultBool_R);\n",
        "\n",
        "            // get period candidate by continued fraction expansion (thanks to Euclid !)\n",
        "            let gcdL = GreatestCommonDivisorL(resultIntL, 2L^n1);\n",
        "            let calculatedNumerator = resultIntL / gcdL;\n",
        "            let calculatedDenominator = 2L^n1 / gcdL;\n",
        "            let numL = Microsoft.Quantum.Convert.IntAsBigInt(num);\n",
        "            let approximatedFraction =\n",
        "                ContinuedFractionConvergentL(BigFraction(calculatedNumerator, calculatedDenominator), numL);\n",
        "            let (approximatedNumerator, approximatedDenominator) = approximatedFraction!;\n",
        "            mutable periodCandidateL = 0L;\n",
        "            if(approximatedDenominator < 0L) {\n",
        "                set periodCandidateL = approximatedDenominator * -1L;\n",
        "            }\n",
        "            else {\n",
        "                set periodCandidateL = approximatedDenominator;             \n",
        "            }\n",
        "            set periodCandidate = ReduceBigIntToInt(periodCandidateL);\n",
        "\n",
        "            // output for debugging\n",
        "            Message($\"Measured Fraction : {resultIntL} / {2L^n1}\");\n",
        "            Message($\"Approximated Fraction : {approximatedNumerator} / {approximatedDenominator}\");\n",
        "            Message($\"Period Candidate : {periodCandidate}\");\n",
        "        }\n",
        "    }\n",
        "    until ((periodCandidate != 0) and (ExpModI(a, periodCandidate, num) == 1))\n",
        "    fixup {\n",
        "    }\n",
        "\n",
        "    // output for debugging\n",
        "    Message(\"Found period \" + Microsoft.Quantum.Convert.IntAsString(periodCandidate));\n",
        "    Message(\"\");\n",
        "}\n",
        "\n",
        "// This is a helper function to convert BigInt to Int\n",
        "operation ReduceBigIntToInt(numL : BigInt) : Int {\n",
        "    // Check if numL is not large\n",
        "    Microsoft.Quantum.Diagnostics.Fact(BitSizeL(numL) <= 32, $\"Cannot convert to Int. Input is too large\");\n",
        "\n",
        "    mutable resultInt = 0;\n",
        "    let numArray = Microsoft.Quantum.Convert.BigIntAsBoolArray(numL);\n",
        "    let numArray_R = Microsoft.Quantum.Arrays.Reversed(numArray); // because BigIntAsBoolArray() is Little Endian order\n",
        "    let nSize = Length(numArray_R);\n",
        "    for idx in 0 .. nSize - 1 {\n",
        "        if(numArray_R[idx] and ((nSize - 1) - idx <= 31)) {\n",
        "            set resultInt = resultInt + (2 ^ ((nSize - 1) - idx));\n",
        "        }\n",
        "    }\n",
        "    return resultInt;\n",
        "}"
      ]
    },
    {
      "cell_type": "code",
      "execution_count": 15,
      "metadata": {
        "jupyter": {
          "outputs_hidden": false,
          "source_hidden": false
        },
        "microsoft": {},
        "nteract": {
          "transient": {
            "deleting": false
          }
        }
      },
      "outputs": [
        {
          "name": "stdout",
          "output_type": "stream",
          "text": [
            "Measured Fraction : 102 / 256\n",
            "Approximated Fraction : -2 / -5\n",
            "Period Candidate : 5\n",
            "Found period 5\n",
            "\n",
            "Measured Fraction : 64 / 256\n",
            "Approximated Fraction : -1 / -4\n",
            "Period Candidate : 4\n",
            "Found period 4\n",
            "\n"
          ]
        }
      ],
      "source": [
        "N = 11\n",
        "a = 5\n",
        "res = QuantumPeriodFinding.simulate(num=N, a=a)\n",
        "\n",
        "N = 15\n",
        "a = 7\n",
        "res = QuantumPeriodFinding.simulate(num=N, a=a)"
      ]
    }
  ],
  "metadata": {
    "kernel_info": {
      "name": "python3"
    },
    "kernelspec": {
      "display_name": "Q#",
      "language": "qsharp",
      "name": "iqsharp"
    },
    "language_info": {
      "file_extension": ".qs",
      "mimetype": "text/x-qsharp",
      "name": "qsharp",
      "version": "0.27"
    },
    "nteract": {
      "version": "nteract-front-end@1.0.0"
    }
  },
  "nbformat": 4,
  "nbformat_minor": 0
}
